{
 "cells": [
  {
   "cell_type": "markdown",
   "metadata": {},
   "source": [
    "## NLP CRM PROJECT \n"
   ]
  },
  {
   "cell_type": "code",
   "execution_count": 69,
   "metadata": {
    "colab": {},
    "colab_type": "code",
    "id": "ky_bQDpvzw6r"
   },
   "outputs": [],
   "source": [
    "#Importing Libraries\n",
    "import pandas as pd\n",
    "import string\n",
    "from nltk.corpus import stopwords"
   ]
  },
  {
   "cell_type": "code",
   "execution_count": 70,
   "metadata": {
    "colab": {
     "base_uri": "https://localhost:8080/",
     "height": 68
    },
    "colab_type": "code",
    "id": "8isLJkalzw60",
    "outputId": "b63eb52d-7525-4261-cb3d-1a8399fe1f2b"
   },
   "outputs": [
    {
     "name": "stderr",
     "output_type": "stream",
     "text": [
      "[nltk_data] Downloading package stopwords to\n",
      "[nltk_data]     C:\\Users\\kudli\\AppData\\Roaming\\nltk_data...\n",
      "[nltk_data]   Package stopwords is already up-to-date!\n",
      "[nltk_data] Downloading package punkt to\n",
      "[nltk_data]     C:\\Users\\kudli\\AppData\\Roaming\\nltk_data...\n",
      "[nltk_data]   Package punkt is already up-to-date!\n"
     ]
    },
    {
     "data": {
      "text/plain": [
       "True"
      ]
     },
     "execution_count": 70,
     "metadata": {},
     "output_type": "execute_result"
    }
   ],
   "source": [
    "#Importing NLTK library along with stopwords and punkt\n",
    "import nltk\n",
    "nltk.download('stopwords')\n",
    "nltk.download('punkt')"
   ]
  },
  {
   "cell_type": "code",
   "execution_count": 71,
   "metadata": {},
   "outputs": [
    {
     "name": "stdout",
     "output_type": "stream",
     "text": [
      "C:\\Users\\kudli\n"
     ]
    }
   ],
   "source": [
    "cd"
   ]
  },
  {
   "cell_type": "code",
   "execution_count": 72,
   "metadata": {},
   "outputs": [
    {
     "name": "stdout",
     "output_type": "stream",
     "text": [
      "C:\\Users\\kudli\\Downloads\n"
     ]
    }
   ],
   "source": [
    "cd Downloads"
   ]
  },
  {
   "cell_type": "code",
   "execution_count": 73,
   "metadata": {
    "colab": {},
    "colab_type": "code",
    "id": "c_seCJu9zw68"
   },
   "outputs": [],
   "source": [
    "#Read csv file\n",
    "df= pd.read_csv('leads.csv', encoding = 'ISO-8859-1')"
   ]
  },
  {
   "cell_type": "code",
   "execution_count": 74,
   "metadata": {},
   "outputs": [
    {
     "data": {
      "text/html": [
       "<div>\n",
       "<style scoped>\n",
       "    .dataframe tbody tr th:only-of-type {\n",
       "        vertical-align: middle;\n",
       "    }\n",
       "\n",
       "    .dataframe tbody tr th {\n",
       "        vertical-align: top;\n",
       "    }\n",
       "\n",
       "    .dataframe thead th {\n",
       "        text-align: right;\n",
       "    }\n",
       "</style>\n",
       "<table border=\"1\" class=\"dataframe\">\n",
       "  <thead>\n",
       "    <tr style=\"text-align: right;\">\n",
       "      <th></th>\n",
       "      <th>Lead Name</th>\n",
       "      <th>Location</th>\n",
       "      <th>Status</th>\n",
       "      <th>Status information</th>\n",
       "      <th>Unnamed: 4</th>\n",
       "    </tr>\n",
       "  </thead>\n",
       "  <tbody>\n",
       "    <tr>\n",
       "      <th>0</th>\n",
       "      <td>Raja</td>\n",
       "      <td>hyderabad</td>\n",
       "      <td>Not Converted</td>\n",
       "      <td>14/8/prema: share me details, available in evn...</td>\n",
       "      <td>NaN</td>\n",
       "    </tr>\n",
       "    <tr>\n",
       "      <th>1</th>\n",
       "      <td>Anirudh Reddy</td>\n",
       "      <td>pune</td>\n",
       "      <td>Not Converted</td>\n",
       "      <td>14/8/prema: cal me tmrw, shared details to ema...</td>\n",
       "      <td>NaN</td>\n",
       "    </tr>\n",
       "    <tr>\n",
       "      <th>2</th>\n",
       "      <td>Sapna Dewani</td>\n",
       "      <td>bangalore</td>\n",
       "      <td>Converted</td>\n",
       "      <td>16|AuG|moHan:rnr</td>\n",
       "      <td>NaN</td>\n",
       "    </tr>\n",
       "    <tr>\n",
       "      <th>3</th>\n",
       "      <td>suresh</td>\n",
       "      <td>mumbai</td>\n",
       "      <td>Not Converted</td>\n",
       "      <td>14/8/17(Surendra):i want only Server 16|AuG|mo...</td>\n",
       "      <td>NaN</td>\n",
       "    </tr>\n",
       "    <tr>\n",
       "      <th>4</th>\n",
       "      <td>Akshay Shinde</td>\n",
       "      <td>hyderabad</td>\n",
       "      <td>Not Converted</td>\n",
       "      <td>14/8/prema:rnr 16/8/prema: gave info, he said ...</td>\n",
       "      <td>NaN</td>\n",
       "    </tr>\n",
       "    <tr>\n",
       "      <th>5</th>\n",
       "      <td>Karthik</td>\n",
       "      <td>mumbai</td>\n",
       "      <td>Not Converted</td>\n",
       "      <td>12/8/17(Surendra):i will check demo(attended d...</td>\n",
       "      <td>NaN</td>\n",
       "    </tr>\n",
       "    <tr>\n",
       "      <th>6</th>\n",
       "      <td>atul dubey</td>\n",
       "      <td>delhi</td>\n",
       "      <td>Not Converted</td>\n",
       "      <td>14/8/17(Surendra):asking code</td>\n",
       "      <td>NaN</td>\n",
       "    </tr>\n",
       "    <tr>\n",
       "      <th>7</th>\n",
       "      <td>praneeth</td>\n",
       "      <td>pune</td>\n",
       "      <td>Not Converted</td>\n",
       "      <td>11|aUg|moHan:mail shred for ML Tensorflow corp...</td>\n",
       "      <td>NaN</td>\n",
       "    </tr>\n",
       "    <tr>\n",
       "      <th>8</th>\n",
       "      <td>Smita Shinde</td>\n",
       "      <td>bangalore</td>\n",
       "      <td>Not Converted</td>\n",
       "      <td>11|AuG|moHan:askng code</td>\n",
       "      <td>NaN</td>\n",
       "    </tr>\n",
       "    <tr>\n",
       "      <th>9</th>\n",
       "      <td>shiba</td>\n",
       "      <td>bangalore</td>\n",
       "      <td>Not Converted</td>\n",
       "      <td>NaN</td>\n",
       "      <td>NaN</td>\n",
       "    </tr>\n",
       "  </tbody>\n",
       "</table>\n",
       "</div>"
      ],
      "text/plain": [
       "       Lead Name   Location        Status   \\\n",
       "0           Raja  hyderabad  Not Converted   \n",
       "1  Anirudh Reddy       pune  Not Converted   \n",
       "2   Sapna Dewani  bangalore     Converted    \n",
       "3         suresh     mumbai  Not Converted   \n",
       "4  Akshay Shinde  hyderabad  Not Converted   \n",
       "5        Karthik     mumbai  Not Converted   \n",
       "6     atul dubey      delhi  Not Converted   \n",
       "7       praneeth       pune  Not Converted   \n",
       "8   Smita Shinde  bangalore  Not Converted   \n",
       "9          shiba  bangalore  Not Converted   \n",
       "\n",
       "                                  Status information  Unnamed: 4  \n",
       "0  14/8/prema: share me details, available in evn...         NaN  \n",
       "1  14/8/prema: cal me tmrw, shared details to ema...         NaN  \n",
       "2                                   16|AuG|moHan:rnr         NaN  \n",
       "3  14/8/17(Surendra):i want only Server 16|AuG|mo...         NaN  \n",
       "4  14/8/prema:rnr 16/8/prema: gave info, he said ...         NaN  \n",
       "5  12/8/17(Surendra):i will check demo(attended d...         NaN  \n",
       "6                      14/8/17(Surendra):asking code         NaN  \n",
       "7  11|aUg|moHan:mail shred for ML Tensorflow corp...         NaN  \n",
       "8                            11|AuG|moHan:askng code         NaN  \n",
       "9                                                NaN         NaN  "
      ]
     },
     "execution_count": 74,
     "metadata": {},
     "output_type": "execute_result"
    }
   ],
   "source": [
    "##Checking the first 10 rows of the Dataset\n",
    "df.head(10)"
   ]
  },
  {
   "cell_type": "code",
   "execution_count": 75,
   "metadata": {
    "scrolled": true
   },
   "outputs": [
    {
     "name": "stdout",
     "output_type": "stream",
     "text": [
      "<class 'pandas.core.frame.DataFrame'>\n",
      "RangeIndex: 5002 entries, 0 to 5001\n",
      "Data columns (total 5 columns):\n",
      " #   Column              Non-Null Count  Dtype  \n",
      "---  ------              --------------  -----  \n",
      " 0   Lead Name           1001 non-null   object \n",
      " 1   Location            980 non-null    object \n",
      " 2   Status              998 non-null    object \n",
      " 3   Status information  977 non-null    object \n",
      " 4   Unnamed: 4          0 non-null      float64\n",
      "dtypes: float64(1), object(4)\n",
      "memory usage: 195.5+ KB\n"
     ]
    }
   ],
   "source": [
    "#Checking information of the data\n",
    "df.info()"
   ]
  },
  {
   "cell_type": "code",
   "execution_count": 76,
   "metadata": {},
   "outputs": [
    {
     "data": {
      "text/plain": [
       "(5002, 5)"
      ]
     },
     "execution_count": 76,
     "metadata": {},
     "output_type": "execute_result"
    }
   ],
   "source": [
    "#Checking shape of the data\n",
    "df.shape"
   ]
  },
  {
   "cell_type": "code",
   "execution_count": 77,
   "metadata": {
    "colab": {},
    "colab_type": "code",
    "id": "JblLguwKzw6-"
   },
   "outputs": [],
   "source": [
    "#rEmoving the extra spaces in column names\n",
    "df.columns = df.columns.str.replace(' ', '')"
   ]
  },
  {
   "cell_type": "code",
   "execution_count": 78,
   "metadata": {
    "colab": {
     "base_uri": "https://localhost:8080/",
     "height": 419
    },
    "colab_type": "code",
    "id": "NE0Eaa30zw7B",
    "outputId": "ccc4b110-d73e-4952-91f3-dca7d4160e29"
   },
   "outputs": [
    {
     "data": {
      "text/html": [
       "<div>\n",
       "<style scoped>\n",
       "    .dataframe tbody tr th:only-of-type {\n",
       "        vertical-align: middle;\n",
       "    }\n",
       "\n",
       "    .dataframe tbody tr th {\n",
       "        vertical-align: top;\n",
       "    }\n",
       "\n",
       "    .dataframe thead th {\n",
       "        text-align: right;\n",
       "    }\n",
       "</style>\n",
       "<table border=\"1\" class=\"dataframe\">\n",
       "  <thead>\n",
       "    <tr style=\"text-align: right;\">\n",
       "      <th></th>\n",
       "      <th>LeadName</th>\n",
       "      <th>Location</th>\n",
       "      <th>Status</th>\n",
       "      <th>Statusinformation</th>\n",
       "      <th>Unnamed:4</th>\n",
       "    </tr>\n",
       "  </thead>\n",
       "  <tbody>\n",
       "    <tr>\n",
       "      <th>0</th>\n",
       "      <td>Raja</td>\n",
       "      <td>hyderabad</td>\n",
       "      <td>Not Converted</td>\n",
       "      <td>14/8/prema: share me details, available in evn...</td>\n",
       "      <td>NaN</td>\n",
       "    </tr>\n",
       "    <tr>\n",
       "      <th>1</th>\n",
       "      <td>Anirudh Reddy</td>\n",
       "      <td>pune</td>\n",
       "      <td>Not Converted</td>\n",
       "      <td>14/8/prema: cal me tmrw, shared details to ema...</td>\n",
       "      <td>NaN</td>\n",
       "    </tr>\n",
       "    <tr>\n",
       "      <th>2</th>\n",
       "      <td>Sapna Dewani</td>\n",
       "      <td>bangalore</td>\n",
       "      <td>Converted</td>\n",
       "      <td>16|AuG|moHan:rnr</td>\n",
       "      <td>NaN</td>\n",
       "    </tr>\n",
       "    <tr>\n",
       "      <th>3</th>\n",
       "      <td>suresh</td>\n",
       "      <td>mumbai</td>\n",
       "      <td>Not Converted</td>\n",
       "      <td>14/8/17(Surendra):i want only Server 16|AuG|mo...</td>\n",
       "      <td>NaN</td>\n",
       "    </tr>\n",
       "    <tr>\n",
       "      <th>4</th>\n",
       "      <td>Akshay Shinde</td>\n",
       "      <td>hyderabad</td>\n",
       "      <td>Not Converted</td>\n",
       "      <td>14/8/prema:rnr 16/8/prema: gave info, he said ...</td>\n",
       "      <td>NaN</td>\n",
       "    </tr>\n",
       "    <tr>\n",
       "      <th>...</th>\n",
       "      <td>...</td>\n",
       "      <td>...</td>\n",
       "      <td>...</td>\n",
       "      <td>...</td>\n",
       "      <td>...</td>\n",
       "    </tr>\n",
       "    <tr>\n",
       "      <th>4997</th>\n",
       "      <td>NaN</td>\n",
       "      <td>NaN</td>\n",
       "      <td>NaN</td>\n",
       "      <td>NaN</td>\n",
       "      <td>NaN</td>\n",
       "    </tr>\n",
       "    <tr>\n",
       "      <th>4998</th>\n",
       "      <td>NaN</td>\n",
       "      <td>NaN</td>\n",
       "      <td>NaN</td>\n",
       "      <td>NaN</td>\n",
       "      <td>NaN</td>\n",
       "    </tr>\n",
       "    <tr>\n",
       "      <th>4999</th>\n",
       "      <td>NaN</td>\n",
       "      <td>NaN</td>\n",
       "      <td>NaN</td>\n",
       "      <td>NaN</td>\n",
       "      <td>NaN</td>\n",
       "    </tr>\n",
       "    <tr>\n",
       "      <th>5000</th>\n",
       "      <td>NaN</td>\n",
       "      <td>NaN</td>\n",
       "      <td>NaN</td>\n",
       "      <td>NaN</td>\n",
       "      <td>NaN</td>\n",
       "    </tr>\n",
       "    <tr>\n",
       "      <th>5001</th>\n",
       "      <td>NaN</td>\n",
       "      <td>NaN</td>\n",
       "      <td>NaN</td>\n",
       "      <td>NaN</td>\n",
       "      <td>NaN</td>\n",
       "    </tr>\n",
       "  </tbody>\n",
       "</table>\n",
       "<p>5002 rows × 5 columns</p>\n",
       "</div>"
      ],
      "text/plain": [
       "           LeadName   Location         Status  \\\n",
       "0              Raja  hyderabad  Not Converted   \n",
       "1     Anirudh Reddy       pune  Not Converted   \n",
       "2      Sapna Dewani  bangalore     Converted    \n",
       "3            suresh     mumbai  Not Converted   \n",
       "4     Akshay Shinde  hyderabad  Not Converted   \n",
       "...             ...        ...            ...   \n",
       "4997            NaN        NaN            NaN   \n",
       "4998            NaN        NaN            NaN   \n",
       "4999            NaN        NaN            NaN   \n",
       "5000            NaN        NaN            NaN   \n",
       "5001            NaN        NaN            NaN   \n",
       "\n",
       "                                      Statusinformation  Unnamed:4  \n",
       "0     14/8/prema: share me details, available in evn...        NaN  \n",
       "1     14/8/prema: cal me tmrw, shared details to ema...        NaN  \n",
       "2                                      16|AuG|moHan:rnr        NaN  \n",
       "3     14/8/17(Surendra):i want only Server 16|AuG|mo...        NaN  \n",
       "4     14/8/prema:rnr 16/8/prema: gave info, he said ...        NaN  \n",
       "...                                                 ...        ...  \n",
       "4997                                                NaN        NaN  \n",
       "4998                                                NaN        NaN  \n",
       "4999                                                NaN        NaN  \n",
       "5000                                                NaN        NaN  \n",
       "5001                                                NaN        NaN  \n",
       "\n",
       "[5002 rows x 5 columns]"
      ]
     },
     "execution_count": 78,
     "metadata": {},
     "output_type": "execute_result"
    }
   ],
   "source": [
    "df  "
   ]
  },
  {
   "cell_type": "code",
   "execution_count": 79,
   "metadata": {
    "colab": {
     "base_uri": "https://localhost:8080/",
     "height": 221
    },
    "colab_type": "code",
    "id": "w8gPLbDdzw7D",
    "outputId": "d567ba06-15c8-476e-9696-03c8865484d1",
    "scrolled": true
   },
   "outputs": [
    {
     "data": {
      "text/plain": [
       "0       Not Converted\n",
       "1       Not Converted\n",
       "2          Converted \n",
       "3       Not Converted\n",
       "4       Not Converted\n",
       "            ...      \n",
       "4997              NaN\n",
       "4998              NaN\n",
       "4999              NaN\n",
       "5000              NaN\n",
       "5001              NaN\n",
       "Name: Status, Length: 5002, dtype: object"
      ]
     },
     "execution_count": 79,
     "metadata": {},
     "output_type": "execute_result"
    }
   ],
   "source": [
    "df['Status']"
   ]
  },
  {
   "cell_type": "code",
   "execution_count": 80,
   "metadata": {
    "colab": {},
    "colab_type": "code",
    "id": "ou-EEZuHzw7L"
   },
   "outputs": [],
   "source": [
    "#Dropping the null ,nan values from the dataset\n",
    "df = df[df['Status'].notna()]\n",
    "df = df[df['Statusinformation'].notna()]\n",
    "df = df[df['Location'].notna()]\n",
    "df = df[df['LeadName'].notna()]\n"
   ]
  },
  {
   "cell_type": "code",
   "execution_count": 81,
   "metadata": {
    "colab": {
     "base_uri": "https://localhost:8080/",
     "height": 419
    },
    "colab_type": "code",
    "id": "uZKpMPkqzw7O",
    "outputId": "cb3e8442-1d0c-4f7f-d4cd-04be8c4766ff",
    "scrolled": true
   },
   "outputs": [
    {
     "data": {
      "text/html": [
       "<div>\n",
       "<style scoped>\n",
       "    .dataframe tbody tr th:only-of-type {\n",
       "        vertical-align: middle;\n",
       "    }\n",
       "\n",
       "    .dataframe tbody tr th {\n",
       "        vertical-align: top;\n",
       "    }\n",
       "\n",
       "    .dataframe thead th {\n",
       "        text-align: right;\n",
       "    }\n",
       "</style>\n",
       "<table border=\"1\" class=\"dataframe\">\n",
       "  <thead>\n",
       "    <tr style=\"text-align: right;\">\n",
       "      <th></th>\n",
       "      <th>LeadName</th>\n",
       "      <th>Location</th>\n",
       "      <th>Status</th>\n",
       "      <th>Statusinformation</th>\n",
       "      <th>Unnamed:4</th>\n",
       "    </tr>\n",
       "  </thead>\n",
       "  <tbody>\n",
       "    <tr>\n",
       "      <th>0</th>\n",
       "      <td>Raja</td>\n",
       "      <td>hyderabad</td>\n",
       "      <td>Not Converted</td>\n",
       "      <td>14/8/prema: share me details, available in evn...</td>\n",
       "      <td>NaN</td>\n",
       "    </tr>\n",
       "    <tr>\n",
       "      <th>1</th>\n",
       "      <td>Anirudh Reddy</td>\n",
       "      <td>pune</td>\n",
       "      <td>Not Converted</td>\n",
       "      <td>14/8/prema: cal me tmrw, shared details to ema...</td>\n",
       "      <td>NaN</td>\n",
       "    </tr>\n",
       "    <tr>\n",
       "      <th>2</th>\n",
       "      <td>Sapna Dewani</td>\n",
       "      <td>bangalore</td>\n",
       "      <td>Converted</td>\n",
       "      <td>16|AuG|moHan:rnr</td>\n",
       "      <td>NaN</td>\n",
       "    </tr>\n",
       "    <tr>\n",
       "      <th>3</th>\n",
       "      <td>suresh</td>\n",
       "      <td>mumbai</td>\n",
       "      <td>Not Converted</td>\n",
       "      <td>14/8/17(Surendra):i want only Server 16|AuG|mo...</td>\n",
       "      <td>NaN</td>\n",
       "    </tr>\n",
       "    <tr>\n",
       "      <th>4</th>\n",
       "      <td>Akshay Shinde</td>\n",
       "      <td>hyderabad</td>\n",
       "      <td>Not Converted</td>\n",
       "      <td>14/8/prema:rnr 16/8/prema: gave info, he said ...</td>\n",
       "      <td>NaN</td>\n",
       "    </tr>\n",
       "    <tr>\n",
       "      <th>...</th>\n",
       "      <td>...</td>\n",
       "      <td>...</td>\n",
       "      <td>...</td>\n",
       "      <td>...</td>\n",
       "      <td>...</td>\n",
       "    </tr>\n",
       "    <tr>\n",
       "      <th>996</th>\n",
       "      <td>vipin</td>\n",
       "      <td>bangalore</td>\n",
       "      <td>Not Converted</td>\n",
       "      <td>25/4/17(Surendra):please send me details tomor...</td>\n",
       "      <td>NaN</td>\n",
       "    </tr>\n",
       "    <tr>\n",
       "      <th>997</th>\n",
       "      <td>dheeraj</td>\n",
       "      <td>chennai</td>\n",
       "      <td>Not Converted</td>\n",
       "      <td>24/4/17(prema): need CT, but our venue is far....</td>\n",
       "      <td>NaN</td>\n",
       "    </tr>\n",
       "    <tr>\n",
       "      <th>998</th>\n",
       "      <td>kuldeep singh</td>\n",
       "      <td>bangalore</td>\n",
       "      <td>Not Converted</td>\n",
       "      <td>24/Apr/moHan:intrstd in evng batch trail perd ...</td>\n",
       "      <td>NaN</td>\n",
       "    </tr>\n",
       "    <tr>\n",
       "      <th>999</th>\n",
       "      <td>ankur sharma</td>\n",
       "      <td>bangalore</td>\n",
       "      <td>Not Converted</td>\n",
       "      <td>1/5/17(Surendra):please share me details 11/5/...</td>\n",
       "      <td>NaN</td>\n",
       "    </tr>\n",
       "    <tr>\n",
       "      <th>1000</th>\n",
       "      <td>Saugata Chakrabarti</td>\n",
       "      <td>bangalore</td>\n",
       "      <td>Not Converted</td>\n",
       "      <td>24/4/17(prema): shared details need only Cert....</td>\n",
       "      <td>NaN</td>\n",
       "    </tr>\n",
       "  </tbody>\n",
       "</table>\n",
       "<p>956 rows × 5 columns</p>\n",
       "</div>"
      ],
      "text/plain": [
       "                 LeadName   Location         Status  \\\n",
       "0                    Raja  hyderabad  Not Converted   \n",
       "1           Anirudh Reddy       pune  Not Converted   \n",
       "2            Sapna Dewani  bangalore     Converted    \n",
       "3                  suresh     mumbai  Not Converted   \n",
       "4           Akshay Shinde  hyderabad  Not Converted   \n",
       "...                   ...        ...            ...   \n",
       "996                 vipin  bangalore  Not Converted   \n",
       "997               dheeraj    chennai  Not Converted   \n",
       "998         kuldeep singh  bangalore  Not Converted   \n",
       "999          ankur sharma  bangalore  Not Converted   \n",
       "1000  Saugata Chakrabarti  bangalore  Not Converted   \n",
       "\n",
       "                                      Statusinformation  Unnamed:4  \n",
       "0     14/8/prema: share me details, available in evn...        NaN  \n",
       "1     14/8/prema: cal me tmrw, shared details to ema...        NaN  \n",
       "2                                      16|AuG|moHan:rnr        NaN  \n",
       "3     14/8/17(Surendra):i want only Server 16|AuG|mo...        NaN  \n",
       "4     14/8/prema:rnr 16/8/prema: gave info, he said ...        NaN  \n",
       "...                                                 ...        ...  \n",
       "996   25/4/17(Surendra):please send me details tomor...        NaN  \n",
       "997   24/4/17(prema): need CT, but our venue is far....        NaN  \n",
       "998   24/Apr/moHan:intrstd in evng batch trail perd ...        NaN  \n",
       "999   1/5/17(Surendra):please share me details 11/5/...        NaN  \n",
       "1000  24/4/17(prema): shared details need only Cert....        NaN  \n",
       "\n",
       "[956 rows x 5 columns]"
      ]
     },
     "execution_count": 81,
     "metadata": {},
     "output_type": "execute_result"
    }
   ],
   "source": [
    "df"
   ]
  },
  {
   "cell_type": "code",
   "execution_count": 82,
   "metadata": {
    "colab": {},
    "colab_type": "code",
    "id": "9uycJvlHzw7Q"
   },
   "outputs": [],
   "source": [
    "#Dropping the column which is of no use \n",
    "df1 = df.drop(['Unnamed:4'], axis =1)"
   ]
  },
  {
   "cell_type": "code",
   "execution_count": 83,
   "metadata": {
    "colab": {
     "base_uri": "https://localhost:8080/",
     "height": 419
    },
    "colab_type": "code",
    "id": "YWPiWk86zw7S",
    "outputId": "bcec949a-203c-438c-e2d3-439295047f2a"
   },
   "outputs": [
    {
     "data": {
      "text/html": [
       "<div>\n",
       "<style scoped>\n",
       "    .dataframe tbody tr th:only-of-type {\n",
       "        vertical-align: middle;\n",
       "    }\n",
       "\n",
       "    .dataframe tbody tr th {\n",
       "        vertical-align: top;\n",
       "    }\n",
       "\n",
       "    .dataframe thead th {\n",
       "        text-align: right;\n",
       "    }\n",
       "</style>\n",
       "<table border=\"1\" class=\"dataframe\">\n",
       "  <thead>\n",
       "    <tr style=\"text-align: right;\">\n",
       "      <th></th>\n",
       "      <th>LeadName</th>\n",
       "      <th>Location</th>\n",
       "      <th>Status</th>\n",
       "      <th>Statusinformation</th>\n",
       "    </tr>\n",
       "  </thead>\n",
       "  <tbody>\n",
       "    <tr>\n",
       "      <th>0</th>\n",
       "      <td>Raja</td>\n",
       "      <td>hyderabad</td>\n",
       "      <td>Not Converted</td>\n",
       "      <td>14/8/prema: share me details, available in evn...</td>\n",
       "    </tr>\n",
       "    <tr>\n",
       "      <th>1</th>\n",
       "      <td>Anirudh Reddy</td>\n",
       "      <td>pune</td>\n",
       "      <td>Not Converted</td>\n",
       "      <td>14/8/prema: cal me tmrw, shared details to ema...</td>\n",
       "    </tr>\n",
       "    <tr>\n",
       "      <th>2</th>\n",
       "      <td>Sapna Dewani</td>\n",
       "      <td>bangalore</td>\n",
       "      <td>Converted</td>\n",
       "      <td>16|AuG|moHan:rnr</td>\n",
       "    </tr>\n",
       "    <tr>\n",
       "      <th>3</th>\n",
       "      <td>suresh</td>\n",
       "      <td>mumbai</td>\n",
       "      <td>Not Converted</td>\n",
       "      <td>14/8/17(Surendra):i want only Server 16|AuG|mo...</td>\n",
       "    </tr>\n",
       "    <tr>\n",
       "      <th>4</th>\n",
       "      <td>Akshay Shinde</td>\n",
       "      <td>hyderabad</td>\n",
       "      <td>Not Converted</td>\n",
       "      <td>14/8/prema:rnr 16/8/prema: gave info, he said ...</td>\n",
       "    </tr>\n",
       "    <tr>\n",
       "      <th>...</th>\n",
       "      <td>...</td>\n",
       "      <td>...</td>\n",
       "      <td>...</td>\n",
       "      <td>...</td>\n",
       "    </tr>\n",
       "    <tr>\n",
       "      <th>996</th>\n",
       "      <td>vipin</td>\n",
       "      <td>bangalore</td>\n",
       "      <td>Not Converted</td>\n",
       "      <td>25/4/17(Surendra):please send me details tomor...</td>\n",
       "    </tr>\n",
       "    <tr>\n",
       "      <th>997</th>\n",
       "      <td>dheeraj</td>\n",
       "      <td>chennai</td>\n",
       "      <td>Not Converted</td>\n",
       "      <td>24/4/17(prema): need CT, but our venue is far....</td>\n",
       "    </tr>\n",
       "    <tr>\n",
       "      <th>998</th>\n",
       "      <td>kuldeep singh</td>\n",
       "      <td>bangalore</td>\n",
       "      <td>Not Converted</td>\n",
       "      <td>24/Apr/moHan:intrstd in evng batch trail perd ...</td>\n",
       "    </tr>\n",
       "    <tr>\n",
       "      <th>999</th>\n",
       "      <td>ankur sharma</td>\n",
       "      <td>bangalore</td>\n",
       "      <td>Not Converted</td>\n",
       "      <td>1/5/17(Surendra):please share me details 11/5/...</td>\n",
       "    </tr>\n",
       "    <tr>\n",
       "      <th>1000</th>\n",
       "      <td>Saugata Chakrabarti</td>\n",
       "      <td>bangalore</td>\n",
       "      <td>Not Converted</td>\n",
       "      <td>24/4/17(prema): shared details need only Cert....</td>\n",
       "    </tr>\n",
       "  </tbody>\n",
       "</table>\n",
       "<p>956 rows × 4 columns</p>\n",
       "</div>"
      ],
      "text/plain": [
       "                 LeadName   Location         Status  \\\n",
       "0                    Raja  hyderabad  Not Converted   \n",
       "1           Anirudh Reddy       pune  Not Converted   \n",
       "2            Sapna Dewani  bangalore     Converted    \n",
       "3                  suresh     mumbai  Not Converted   \n",
       "4           Akshay Shinde  hyderabad  Not Converted   \n",
       "...                   ...        ...            ...   \n",
       "996                 vipin  bangalore  Not Converted   \n",
       "997               dheeraj    chennai  Not Converted   \n",
       "998         kuldeep singh  bangalore  Not Converted   \n",
       "999          ankur sharma  bangalore  Not Converted   \n",
       "1000  Saugata Chakrabarti  bangalore  Not Converted   \n",
       "\n",
       "                                      Statusinformation  \n",
       "0     14/8/prema: share me details, available in evn...  \n",
       "1     14/8/prema: cal me tmrw, shared details to ema...  \n",
       "2                                      16|AuG|moHan:rnr  \n",
       "3     14/8/17(Surendra):i want only Server 16|AuG|mo...  \n",
       "4     14/8/prema:rnr 16/8/prema: gave info, he said ...  \n",
       "...                                                 ...  \n",
       "996   25/4/17(Surendra):please send me details tomor...  \n",
       "997   24/4/17(prema): need CT, but our venue is far....  \n",
       "998   24/Apr/moHan:intrstd in evng batch trail perd ...  \n",
       "999   1/5/17(Surendra):please share me details 11/5/...  \n",
       "1000  24/4/17(prema): shared details need only Cert....  \n",
       "\n",
       "[956 rows x 4 columns]"
      ]
     },
     "execution_count": 83,
     "metadata": {},
     "output_type": "execute_result"
    }
   ],
   "source": [
    "df1"
   ]
  },
  {
   "cell_type": "code",
   "execution_count": 84,
   "metadata": {
    "colab": {
     "base_uri": "https://localhost:8080/",
     "height": 221
    },
    "colab_type": "code",
    "id": "tX9XuXc5-uQ1",
    "outputId": "a8095190-b4d8-4c16-8577-7e535f4059e3"
   },
   "outputs": [
    {
     "data": {
      "text/plain": [
       "0       14/8/prema: share me details, available in evn...\n",
       "1       14/8/prema: cal me tmrw, shared details to ema...\n",
       "2                                        16|aug|mohan:rnr\n",
       "3       14/8/17(surendra):i want only server 16|aug|mo...\n",
       "4       14/8/prema:rnr 16/8/prema: gave info, he said ...\n",
       "                              ...                        \n",
       "996     25/4/17(surendra):please send me details tomor...\n",
       "997     24/4/17(prema): need ct, but our venue is far....\n",
       "998     24/apr/mohan:intrstd in evng batch trail perd ...\n",
       "999     1/5/17(surendra):please share me details 11/5/...\n",
       "1000    24/4/17(prema): shared details need only cert....\n",
       "Name: Statusinformation, Length: 956, dtype: object"
      ]
     },
     "execution_count": 84,
     "metadata": {},
     "output_type": "execute_result"
    }
   ],
   "source": [
    "#Transforming the whole column into lower case\n",
    "df1['Statusinformation'] = df1['Statusinformation'].str.lower()\n",
    "df1['Statusinformation']"
   ]
  },
  {
   "cell_type": "code",
   "execution_count": 85,
   "metadata": {
    "colab": {},
    "colab_type": "code",
    "id": "pap1BV44BftV"
   },
   "outputs": [],
   "source": [
    "df = df1"
   ]
  },
  {
   "cell_type": "code",
   "execution_count": 86,
   "metadata": {
    "colab": {
     "base_uri": "https://localhost:8080/",
     "height": 221
    },
    "colab_type": "code",
    "id": "Aa1aHYHJzw7U",
    "outputId": "34ef6ab0-b091-422f-b9c2-c46f5b7f5c33"
   },
   "outputs": [
    {
     "data": {
      "text/plain": [
       "0       14 8 prema  share me details  available in evn...\n",
       "1       14 8 prema  cal me tmrw  shared details to ema...\n",
       "2                                            16 mohan rnr\n",
       "3       14 8 17 surendra  i want only server 16 mohan ...\n",
       "4       14 8 prema rnr 16 8 prema  gave info  he said ...\n",
       "                              ...                        \n",
       "996     25 4 17 surendra  please send me details tomor...\n",
       "997     24 4 17 prema   need ct  but our venue is far....\n",
       "998     24 mohan intrstd in evng batch trail perd 26 m...\n",
       "999     1 5 17 surendra  please share me details 11 5 ...\n",
       "1000    24 4 17 prema   shared details need only cert....\n",
       "Name: Statusinformation, Length: 956, dtype: object"
      ]
     },
     "execution_count": 86,
     "metadata": {},
     "output_type": "execute_result"
    }
   ],
   "source": [
    "#Replacing some special characters and months with whitespaces for easy processing of the text\n",
    "df1['Statusinformation'] = df1['Statusinformation'].str.replace(':',' ',regex = True).astype(str)\n",
    "df1['Statusinformation'] = df1['Statusinformation'].str.replace(',',' ',regex = True).astype(str)\n",
    "df1['Statusinformation'] = df1['Statusinformation'].str.replace('|',' ',regex = True).astype(str)\n",
    "df1['Statusinformation'] = df1['Statusinformation'].str.replace(')',' ',regex = True).astype(str)\n",
    "df1['Statusinformation'] = df1['Statusinformation'].str.replace('(',' ',regex = True).astype(str)\n",
    "df1['Statusinformation'] = df1['Statusinformation'].str.replace('/',' ',regex = True).astype(str)\n",
    "df1['Statusinformation'] = df1['Statusinformation'].str.replace(' apr ',' ',regex = True).astype(str)\n",
    "df1['Statusinformation'] = df1['Statusinformation'].str.replace(' may ',' ',regex = True).astype(str)\n",
    "df1['Statusinformation'] = df1['Statusinformation'].str.replace(' july ',' ',regex = True).astype(str)\n",
    "df1['Statusinformation'] = df1['Statusinformation'].str.replace(' aug ',' ',regex = True).astype(str)\n",
    "df1['Statusinformation'] = df1['Statusinformation'].str.replace(' jun ',' ',regex = True).astype(str)\n",
    "df1['Statusinformation'] = df1['Statusinformation'].str.replace(' june ',' ',regex = True).astype(str)\n",
    "df1['Statusinformation']"
   ]
  },
  {
   "cell_type": "code",
   "execution_count": 87,
   "metadata": {
    "scrolled": true
   },
   "outputs": [
    {
     "data": {
      "text/html": [
       "<div>\n",
       "<style scoped>\n",
       "    .dataframe tbody tr th:only-of-type {\n",
       "        vertical-align: middle;\n",
       "    }\n",
       "\n",
       "    .dataframe tbody tr th {\n",
       "        vertical-align: top;\n",
       "    }\n",
       "\n",
       "    .dataframe thead th {\n",
       "        text-align: right;\n",
       "    }\n",
       "</style>\n",
       "<table border=\"1\" class=\"dataframe\">\n",
       "  <thead>\n",
       "    <tr style=\"text-align: right;\">\n",
       "      <th></th>\n",
       "      <th>LeadName</th>\n",
       "      <th>Location</th>\n",
       "      <th>Status</th>\n",
       "      <th>Statusinformation</th>\n",
       "    </tr>\n",
       "  </thead>\n",
       "  <tbody>\n",
       "    <tr>\n",
       "      <th>0</th>\n",
       "      <td>Raja</td>\n",
       "      <td>hyderabad</td>\n",
       "      <td>Not Converted</td>\n",
       "      <td>14 8 prema  share me details  available in evn...</td>\n",
       "    </tr>\n",
       "    <tr>\n",
       "      <th>1</th>\n",
       "      <td>Anirudh Reddy</td>\n",
       "      <td>pune</td>\n",
       "      <td>Not Converted</td>\n",
       "      <td>14 8 prema  cal me tmrw  shared details to ema...</td>\n",
       "    </tr>\n",
       "    <tr>\n",
       "      <th>2</th>\n",
       "      <td>Sapna Dewani</td>\n",
       "      <td>bangalore</td>\n",
       "      <td>Converted</td>\n",
       "      <td>16 mohan rnr</td>\n",
       "    </tr>\n",
       "    <tr>\n",
       "      <th>3</th>\n",
       "      <td>suresh</td>\n",
       "      <td>mumbai</td>\n",
       "      <td>Not Converted</td>\n",
       "      <td>14 8 17 surendra  i want only server 16 mohan ...</td>\n",
       "    </tr>\n",
       "    <tr>\n",
       "      <th>4</th>\n",
       "      <td>Akshay Shinde</td>\n",
       "      <td>hyderabad</td>\n",
       "      <td>Not Converted</td>\n",
       "      <td>14 8 prema rnr 16 8 prema  gave info  he said ...</td>\n",
       "    </tr>\n",
       "    <tr>\n",
       "      <th>...</th>\n",
       "      <td>...</td>\n",
       "      <td>...</td>\n",
       "      <td>...</td>\n",
       "      <td>...</td>\n",
       "    </tr>\n",
       "    <tr>\n",
       "      <th>996</th>\n",
       "      <td>vipin</td>\n",
       "      <td>bangalore</td>\n",
       "      <td>Not Converted</td>\n",
       "      <td>25 4 17 surendra  please send me details tomor...</td>\n",
       "    </tr>\n",
       "    <tr>\n",
       "      <th>997</th>\n",
       "      <td>dheeraj</td>\n",
       "      <td>chennai</td>\n",
       "      <td>Not Converted</td>\n",
       "      <td>24 4 17 prema   need ct  but our venue is far....</td>\n",
       "    </tr>\n",
       "    <tr>\n",
       "      <th>998</th>\n",
       "      <td>kuldeep singh</td>\n",
       "      <td>bangalore</td>\n",
       "      <td>Not Converted</td>\n",
       "      <td>24 mohan intrstd in evng batch trail perd 26 m...</td>\n",
       "    </tr>\n",
       "    <tr>\n",
       "      <th>999</th>\n",
       "      <td>ankur sharma</td>\n",
       "      <td>bangalore</td>\n",
       "      <td>Not Converted</td>\n",
       "      <td>1 5 17 surendra  please share me details 11 5 ...</td>\n",
       "    </tr>\n",
       "    <tr>\n",
       "      <th>1000</th>\n",
       "      <td>Saugata Chakrabarti</td>\n",
       "      <td>bangalore</td>\n",
       "      <td>Not Converted</td>\n",
       "      <td>24 4 17 prema   shared details need only cert....</td>\n",
       "    </tr>\n",
       "  </tbody>\n",
       "</table>\n",
       "<p>956 rows × 4 columns</p>\n",
       "</div>"
      ],
      "text/plain": [
       "                 LeadName   Location         Status  \\\n",
       "0                    Raja  hyderabad  Not Converted   \n",
       "1           Anirudh Reddy       pune  Not Converted   \n",
       "2            Sapna Dewani  bangalore     Converted    \n",
       "3                  suresh     mumbai  Not Converted   \n",
       "4           Akshay Shinde  hyderabad  Not Converted   \n",
       "...                   ...        ...            ...   \n",
       "996                 vipin  bangalore  Not Converted   \n",
       "997               dheeraj    chennai  Not Converted   \n",
       "998         kuldeep singh  bangalore  Not Converted   \n",
       "999          ankur sharma  bangalore  Not Converted   \n",
       "1000  Saugata Chakrabarti  bangalore  Not Converted   \n",
       "\n",
       "                                      Statusinformation  \n",
       "0     14 8 prema  share me details  available in evn...  \n",
       "1     14 8 prema  cal me tmrw  shared details to ema...  \n",
       "2                                          16 mohan rnr  \n",
       "3     14 8 17 surendra  i want only server 16 mohan ...  \n",
       "4     14 8 prema rnr 16 8 prema  gave info  he said ...  \n",
       "...                                                 ...  \n",
       "996   25 4 17 surendra  please send me details tomor...  \n",
       "997   24 4 17 prema   need ct  but our venue is far....  \n",
       "998   24 mohan intrstd in evng batch trail perd 26 m...  \n",
       "999   1 5 17 surendra  please share me details 11 5 ...  \n",
       "1000  24 4 17 prema   shared details need only cert....  \n",
       "\n",
       "[956 rows x 4 columns]"
      ]
     },
     "execution_count": 87,
     "metadata": {},
     "output_type": "execute_result"
    }
   ],
   "source": [
    "df1"
   ]
  },
  {
   "cell_type": "code",
   "execution_count": 88,
   "metadata": {
    "colab": {},
    "colab_type": "code",
    "id": "Kq-4I9s0zw7Z"
   },
   "outputs": [],
   "source": [
    "#Defining a function for pre-processing\n",
    "def text_process(mess):\n",
    "    \"\"\"\n",
    "    Takes in a string of text, then performs the following:\n",
    "    1. Remove all punctuation\n",
    "    2. Remove all stopwords\n",
    "    3. Returns a list of the cleaned text\n",
    "    \"\"\"\n",
    "    # Check characters to see if they are in punctuation\n",
    "    nopunc = [char for char in mess if char not in string.punctuation]\n",
    "\n",
    "    # Join the characters again to form the string.\n",
    "    nopunc = ''.join(nopunc)\n",
    "    \n",
    "    # Now just remove any stopwords\n",
    "    return [word for word in nopunc.split() if word.lower() not in stopwords.words('english')]"
   ]
  },
  {
   "cell_type": "code",
   "execution_count": 89,
   "metadata": {
    "colab": {
     "base_uri": "https://localhost:8080/",
     "height": 221
    },
    "colab_type": "code",
    "id": "Y3dC8i6mzw7h",
    "outputId": "35097917-71a4-4a00-d3bc-ddf16a9a3df0",
    "scrolled": false
   },
   "outputs": [
    {
     "data": {
      "text/plain": [
       "0       [14, 8, prema, share, details, available, evng...\n",
       "1       [14, 8, prema, cal, tmrw, shared, details, ema...\n",
       "2                                        [16, mohan, rnr]\n",
       "3       [14, 8, 17, surendra, want, server, 16, mohan,...\n",
       "4       [14, 8, prema, rnr, 16, 8, prema, gave, info, ...\n",
       "                              ...                        \n",
       "996     [25, 4, 17, surendra, please, send, details, t...\n",
       "997     [24, 4, 17, prema, need, ct, venue, far, share...\n",
       "998     [24, mohan, intrstd, evng, batch, trail, perd,...\n",
       "999     [1, 5, 17, surendra, please, share, details, 1...\n",
       "1000    [24, 4, 17, prema, shared, details, need, cert...\n",
       "Name: Statusinformation, Length: 956, dtype: object"
      ]
     },
     "execution_count": 89,
     "metadata": {},
     "output_type": "execute_result"
    }
   ],
   "source": [
    "#Applying the function\n",
    "df1['Statusinformation'] = df1['Statusinformation'].apply(text_process)\n",
    "df1['Statusinformation']"
   ]
  },
  {
   "cell_type": "code",
   "execution_count": 90,
   "metadata": {},
   "outputs": [],
   "source": [
    "#Saving the file NLP1 to access it further for our ease\n",
    "df1.to_csv('NLP1.csv')"
   ]
  },
  {
   "cell_type": "code",
   "execution_count": 91,
   "metadata": {},
   "outputs": [
    {
     "data": {
      "text/html": [
       "<div>\n",
       "<style scoped>\n",
       "    .dataframe tbody tr th:only-of-type {\n",
       "        vertical-align: middle;\n",
       "    }\n",
       "\n",
       "    .dataframe tbody tr th {\n",
       "        vertical-align: top;\n",
       "    }\n",
       "\n",
       "    .dataframe thead th {\n",
       "        text-align: right;\n",
       "    }\n",
       "</style>\n",
       "<table border=\"1\" class=\"dataframe\">\n",
       "  <thead>\n",
       "    <tr style=\"text-align: right;\">\n",
       "      <th></th>\n",
       "      <th>Unnamed: 0</th>\n",
       "      <th>LeadName</th>\n",
       "      <th>Location</th>\n",
       "      <th>Status</th>\n",
       "      <th>Statusinformation</th>\n",
       "    </tr>\n",
       "  </thead>\n",
       "  <tbody>\n",
       "    <tr>\n",
       "      <th>0</th>\n",
       "      <td>0</td>\n",
       "      <td>Raja</td>\n",
       "      <td>hyderabad</td>\n",
       "      <td>Not Converted</td>\n",
       "      <td>['14', '8', 'prema', 'share', 'details', 'avai...</td>\n",
       "    </tr>\n",
       "    <tr>\n",
       "      <th>1</th>\n",
       "      <td>1</td>\n",
       "      <td>Anirudh Reddy</td>\n",
       "      <td>pune</td>\n",
       "      <td>Not Converted</td>\n",
       "      <td>['14', '8', 'prema', 'cal', 'tmrw', 'shared', ...</td>\n",
       "    </tr>\n",
       "    <tr>\n",
       "      <th>2</th>\n",
       "      <td>2</td>\n",
       "      <td>Sapna Dewani</td>\n",
       "      <td>bangalore</td>\n",
       "      <td>Converted</td>\n",
       "      <td>['16', 'mohan', 'rnr']</td>\n",
       "    </tr>\n",
       "    <tr>\n",
       "      <th>3</th>\n",
       "      <td>3</td>\n",
       "      <td>suresh</td>\n",
       "      <td>mumbai</td>\n",
       "      <td>Not Converted</td>\n",
       "      <td>['14', '8', '17', 'surendra', 'want', 'server'...</td>\n",
       "    </tr>\n",
       "    <tr>\n",
       "      <th>4</th>\n",
       "      <td>4</td>\n",
       "      <td>Akshay Shinde</td>\n",
       "      <td>hyderabad</td>\n",
       "      <td>Not Converted</td>\n",
       "      <td>['14', '8', 'prema', 'rnr', '16', '8', 'prema'...</td>\n",
       "    </tr>\n",
       "    <tr>\n",
       "      <th>...</th>\n",
       "      <td>...</td>\n",
       "      <td>...</td>\n",
       "      <td>...</td>\n",
       "      <td>...</td>\n",
       "      <td>...</td>\n",
       "    </tr>\n",
       "    <tr>\n",
       "      <th>951</th>\n",
       "      <td>996</td>\n",
       "      <td>vipin</td>\n",
       "      <td>bangalore</td>\n",
       "      <td>Not Converted</td>\n",
       "      <td>['25', '4', '17', 'surendra', 'please', 'send'...</td>\n",
       "    </tr>\n",
       "    <tr>\n",
       "      <th>952</th>\n",
       "      <td>997</td>\n",
       "      <td>dheeraj</td>\n",
       "      <td>chennai</td>\n",
       "      <td>Not Converted</td>\n",
       "      <td>['24', '4', '17', 'prema', 'need', 'ct', 'venu...</td>\n",
       "    </tr>\n",
       "    <tr>\n",
       "      <th>953</th>\n",
       "      <td>998</td>\n",
       "      <td>kuldeep singh</td>\n",
       "      <td>bangalore</td>\n",
       "      <td>Not Converted</td>\n",
       "      <td>['24', 'mohan', 'intrstd', 'evng', 'batch', 't...</td>\n",
       "    </tr>\n",
       "    <tr>\n",
       "      <th>954</th>\n",
       "      <td>999</td>\n",
       "      <td>ankur sharma</td>\n",
       "      <td>bangalore</td>\n",
       "      <td>Not Converted</td>\n",
       "      <td>['1', '5', '17', 'surendra', 'please', 'share'...</td>\n",
       "    </tr>\n",
       "    <tr>\n",
       "      <th>955</th>\n",
       "      <td>1000</td>\n",
       "      <td>Saugata Chakrabarti</td>\n",
       "      <td>bangalore</td>\n",
       "      <td>Not Converted</td>\n",
       "      <td>['24', '4', '17', 'prema', 'shared', 'details'...</td>\n",
       "    </tr>\n",
       "  </tbody>\n",
       "</table>\n",
       "<p>956 rows × 5 columns</p>\n",
       "</div>"
      ],
      "text/plain": [
       "     Unnamed: 0             LeadName   Location         Status  \\\n",
       "0             0                 Raja  hyderabad  Not Converted   \n",
       "1             1        Anirudh Reddy       pune  Not Converted   \n",
       "2             2         Sapna Dewani  bangalore     Converted    \n",
       "3             3               suresh     mumbai  Not Converted   \n",
       "4             4        Akshay Shinde  hyderabad  Not Converted   \n",
       "..          ...                  ...        ...            ...   \n",
       "951         996                vipin  bangalore  Not Converted   \n",
       "952         997              dheeraj    chennai  Not Converted   \n",
       "953         998        kuldeep singh  bangalore  Not Converted   \n",
       "954         999         ankur sharma  bangalore  Not Converted   \n",
       "955        1000  Saugata Chakrabarti  bangalore  Not Converted   \n",
       "\n",
       "                                     Statusinformation  \n",
       "0    ['14', '8', 'prema', 'share', 'details', 'avai...  \n",
       "1    ['14', '8', 'prema', 'cal', 'tmrw', 'shared', ...  \n",
       "2                               ['16', 'mohan', 'rnr']  \n",
       "3    ['14', '8', '17', 'surendra', 'want', 'server'...  \n",
       "4    ['14', '8', 'prema', 'rnr', '16', '8', 'prema'...  \n",
       "..                                                 ...  \n",
       "951  ['25', '4', '17', 'surendra', 'please', 'send'...  \n",
       "952  ['24', '4', '17', 'prema', 'need', 'ct', 'venu...  \n",
       "953  ['24', 'mohan', 'intrstd', 'evng', 'batch', 't...  \n",
       "954  ['1', '5', '17', 'surendra', 'please', 'share'...  \n",
       "955  ['24', '4', '17', 'prema', 'shared', 'details'...  \n",
       "\n",
       "[956 rows x 5 columns]"
      ]
     },
     "execution_count": 91,
     "metadata": {},
     "output_type": "execute_result"
    }
   ],
   "source": [
    "#Reading the previously saved file \n",
    "df2 = pd.read_csv('NLP1.csv')\n",
    "df2"
   ]
  },
  {
   "cell_type": "code",
   "execution_count": 92,
   "metadata": {},
   "outputs": [],
   "source": [
    "#Defining the function to remove the numbers from the column\n",
    "def remove_numbers(mess):\n",
    "    list = ['0','1','2','3','4','5','6','7','8','9']\n",
    "    #'prema','moHan','Surendra','soma','SOMA','amar','PREMA'\n",
    "   \n",
    "    resultwords  = [word for word in mess if word.lower() not in list]\n",
    "    return ''.join(resultwords)"
   ]
  },
  {
   "cell_type": "code",
   "execution_count": 93,
   "metadata": {
    "scrolled": true
   },
   "outputs": [
    {
     "data": {
      "text/plain": [
       "0      ['', '', 'prema', 'share', 'details', 'availab...\n",
       "1      ['', '', 'prema', 'cal', 'tmrw', 'shared', 'de...\n",
       "2                                   ['', 'mohan', 'rnr']\n",
       "3      ['', '', '', 'surendra', 'want', 'server', '',...\n",
       "4      ['', '', 'prema', 'rnr', '', '', 'prema', 'gav...\n",
       "                             ...                        \n",
       "951    ['', '', '', 'surendra', 'please', 'send', 'de...\n",
       "952    ['', '', '', 'prema', 'need', 'ct', 'venue', '...\n",
       "953    ['', 'mohan', 'intrstd', 'evng', 'batch', 'tra...\n",
       "954    ['', '', '', 'surendra', 'please', 'share', 'd...\n",
       "955    ['', '', '', 'prema', 'shared', 'details', 'ne...\n",
       "Name: Statusinformation, Length: 956, dtype: object"
      ]
     },
     "execution_count": 93,
     "metadata": {},
     "output_type": "execute_result"
    }
   ],
   "source": [
    "#Applying the function\n",
    "df2['Statusinformation'] = df2['Statusinformation'].apply(remove_numbers)\n",
    "df2['Statusinformation']"
   ]
  },
  {
   "cell_type": "code",
   "execution_count": 94,
   "metadata": {},
   "outputs": [],
   "source": [
    "#importing regular expressions\n",
    "import re"
   ]
  },
  {
   "cell_type": "code",
   "execution_count": 95,
   "metadata": {},
   "outputs": [],
   "source": [
    "#Defining another function to remove names of executives\n",
    "def remove_names(mess):\n",
    "    list = ['surendra','prema','mohan','soma','amar','moHan','SOMA','PREMA','gowtham']\n",
    "    resultwords  = [word for word in re.split(\"\\W+\",mess) if word.lower() not in list]\n",
    "    return ' '.join(resultwords)"
   ]
  },
  {
   "cell_type": "code",
   "execution_count": 96,
   "metadata": {},
   "outputs": [
    {
     "data": {
      "text/html": [
       "<div>\n",
       "<style scoped>\n",
       "    .dataframe tbody tr th:only-of-type {\n",
       "        vertical-align: middle;\n",
       "    }\n",
       "\n",
       "    .dataframe tbody tr th {\n",
       "        vertical-align: top;\n",
       "    }\n",
       "\n",
       "    .dataframe thead th {\n",
       "        text-align: right;\n",
       "    }\n",
       "</style>\n",
       "<table border=\"1\" class=\"dataframe\">\n",
       "  <thead>\n",
       "    <tr style=\"text-align: right;\">\n",
       "      <th></th>\n",
       "      <th>Unnamed: 0</th>\n",
       "      <th>LeadName</th>\n",
       "      <th>Location</th>\n",
       "      <th>Status</th>\n",
       "      <th>Statusinformation</th>\n",
       "    </tr>\n",
       "  </thead>\n",
       "  <tbody>\n",
       "    <tr>\n",
       "      <th>0</th>\n",
       "      <td>0</td>\n",
       "      <td>Raja</td>\n",
       "      <td>hyderabad</td>\n",
       "      <td>Not Converted</td>\n",
       "      <td>['', '', 'prema', 'share', 'details', 'availab...</td>\n",
       "    </tr>\n",
       "    <tr>\n",
       "      <th>1</th>\n",
       "      <td>1</td>\n",
       "      <td>Anirudh Reddy</td>\n",
       "      <td>pune</td>\n",
       "      <td>Not Converted</td>\n",
       "      <td>['', '', 'prema', 'cal', 'tmrw', 'shared', 'de...</td>\n",
       "    </tr>\n",
       "    <tr>\n",
       "      <th>2</th>\n",
       "      <td>2</td>\n",
       "      <td>Sapna Dewani</td>\n",
       "      <td>bangalore</td>\n",
       "      <td>Converted</td>\n",
       "      <td>['', 'mohan', 'rnr']</td>\n",
       "    </tr>\n",
       "    <tr>\n",
       "      <th>3</th>\n",
       "      <td>3</td>\n",
       "      <td>suresh</td>\n",
       "      <td>mumbai</td>\n",
       "      <td>Not Converted</td>\n",
       "      <td>['', '', '', 'surendra', 'want', 'server', '',...</td>\n",
       "    </tr>\n",
       "    <tr>\n",
       "      <th>4</th>\n",
       "      <td>4</td>\n",
       "      <td>Akshay Shinde</td>\n",
       "      <td>hyderabad</td>\n",
       "      <td>Not Converted</td>\n",
       "      <td>['', '', 'prema', 'rnr', '', '', 'prema', 'gav...</td>\n",
       "    </tr>\n",
       "    <tr>\n",
       "      <th>...</th>\n",
       "      <td>...</td>\n",
       "      <td>...</td>\n",
       "      <td>...</td>\n",
       "      <td>...</td>\n",
       "      <td>...</td>\n",
       "    </tr>\n",
       "    <tr>\n",
       "      <th>951</th>\n",
       "      <td>996</td>\n",
       "      <td>vipin</td>\n",
       "      <td>bangalore</td>\n",
       "      <td>Not Converted</td>\n",
       "      <td>['', '', '', 'surendra', 'please', 'send', 'de...</td>\n",
       "    </tr>\n",
       "    <tr>\n",
       "      <th>952</th>\n",
       "      <td>997</td>\n",
       "      <td>dheeraj</td>\n",
       "      <td>chennai</td>\n",
       "      <td>Not Converted</td>\n",
       "      <td>['', '', '', 'prema', 'need', 'ct', 'venue', '...</td>\n",
       "    </tr>\n",
       "    <tr>\n",
       "      <th>953</th>\n",
       "      <td>998</td>\n",
       "      <td>kuldeep singh</td>\n",
       "      <td>bangalore</td>\n",
       "      <td>Not Converted</td>\n",
       "      <td>['', 'mohan', 'intrstd', 'evng', 'batch', 'tra...</td>\n",
       "    </tr>\n",
       "    <tr>\n",
       "      <th>954</th>\n",
       "      <td>999</td>\n",
       "      <td>ankur sharma</td>\n",
       "      <td>bangalore</td>\n",
       "      <td>Not Converted</td>\n",
       "      <td>['', '', '', 'surendra', 'please', 'share', 'd...</td>\n",
       "    </tr>\n",
       "    <tr>\n",
       "      <th>955</th>\n",
       "      <td>1000</td>\n",
       "      <td>Saugata Chakrabarti</td>\n",
       "      <td>bangalore</td>\n",
       "      <td>Not Converted</td>\n",
       "      <td>['', '', '', 'prema', 'shared', 'details', 'ne...</td>\n",
       "    </tr>\n",
       "  </tbody>\n",
       "</table>\n",
       "<p>956 rows × 5 columns</p>\n",
       "</div>"
      ],
      "text/plain": [
       "     Unnamed: 0             LeadName   Location         Status  \\\n",
       "0             0                 Raja  hyderabad  Not Converted   \n",
       "1             1        Anirudh Reddy       pune  Not Converted   \n",
       "2             2         Sapna Dewani  bangalore     Converted    \n",
       "3             3               suresh     mumbai  Not Converted   \n",
       "4             4        Akshay Shinde  hyderabad  Not Converted   \n",
       "..          ...                  ...        ...            ...   \n",
       "951         996                vipin  bangalore  Not Converted   \n",
       "952         997              dheeraj    chennai  Not Converted   \n",
       "953         998        kuldeep singh  bangalore  Not Converted   \n",
       "954         999         ankur sharma  bangalore  Not Converted   \n",
       "955        1000  Saugata Chakrabarti  bangalore  Not Converted   \n",
       "\n",
       "                                     Statusinformation  \n",
       "0    ['', '', 'prema', 'share', 'details', 'availab...  \n",
       "1    ['', '', 'prema', 'cal', 'tmrw', 'shared', 'de...  \n",
       "2                                 ['', 'mohan', 'rnr']  \n",
       "3    ['', '', '', 'surendra', 'want', 'server', '',...  \n",
       "4    ['', '', 'prema', 'rnr', '', '', 'prema', 'gav...  \n",
       "..                                                 ...  \n",
       "951  ['', '', '', 'surendra', 'please', 'send', 'de...  \n",
       "952  ['', '', '', 'prema', 'need', 'ct', 'venue', '...  \n",
       "953  ['', 'mohan', 'intrstd', 'evng', 'batch', 'tra...  \n",
       "954  ['', '', '', 'surendra', 'please', 'share', 'd...  \n",
       "955  ['', '', '', 'prema', 'shared', 'details', 'ne...  \n",
       "\n",
       "[956 rows x 5 columns]"
      ]
     },
     "execution_count": 96,
     "metadata": {},
     "output_type": "execute_result"
    }
   ],
   "source": [
    "#Saving a copy of df2 for its use in further next processing .\n",
    "df3=df2.copy()\n",
    "df3"
   ]
  },
  {
   "cell_type": "code",
   "execution_count": 97,
   "metadata": {
    "scrolled": false
   },
   "outputs": [
    {
     "data": {
      "text/html": [
       "<div>\n",
       "<style scoped>\n",
       "    .dataframe tbody tr th:only-of-type {\n",
       "        vertical-align: middle;\n",
       "    }\n",
       "\n",
       "    .dataframe tbody tr th {\n",
       "        vertical-align: top;\n",
       "    }\n",
       "\n",
       "    .dataframe thead th {\n",
       "        text-align: right;\n",
       "    }\n",
       "</style>\n",
       "<table border=\"1\" class=\"dataframe\">\n",
       "  <thead>\n",
       "    <tr style=\"text-align: right;\">\n",
       "      <th></th>\n",
       "      <th>Unnamed: 0</th>\n",
       "      <th>LeadName</th>\n",
       "      <th>Location</th>\n",
       "      <th>Status</th>\n",
       "      <th>Statusinformation</th>\n",
       "    </tr>\n",
       "  </thead>\n",
       "  <tbody>\n",
       "    <tr>\n",
       "      <th>0</th>\n",
       "      <td>0</td>\n",
       "      <td>Raja</td>\n",
       "      <td>hyderabad</td>\n",
       "      <td>Not Converted</td>\n",
       "      <td>share details available evng postponed plans ...</td>\n",
       "    </tr>\n",
       "    <tr>\n",
       "      <th>1</th>\n",
       "      <td>1</td>\n",
       "      <td>Anirudh Reddy</td>\n",
       "      <td>pune</td>\n",
       "      <td>Not Converted</td>\n",
       "      <td>cal tmrw shared details email share details e...</td>\n",
       "    </tr>\n",
       "    <tr>\n",
       "      <th>2</th>\n",
       "      <td>2</td>\n",
       "      <td>Sapna Dewani</td>\n",
       "      <td>bangalore</td>\n",
       "      <td>Converted</td>\n",
       "      <td>rnr</td>\n",
       "    </tr>\n",
       "    <tr>\n",
       "      <th>3</th>\n",
       "      <td>3</td>\n",
       "      <td>suresh</td>\n",
       "      <td>mumbai</td>\n",
       "      <td>Not Converted</td>\n",
       "      <td>want server cal busy reg server</td>\n",
       "    </tr>\n",
       "    <tr>\n",
       "      <th>4</th>\n",
       "      <td>4</td>\n",
       "      <td>Akshay Shinde</td>\n",
       "      <td>hyderabad</td>\n",
       "      <td>Not Converted</td>\n",
       "      <td>rnr gave info said revert hr planning next mo...</td>\n",
       "    </tr>\n",
       "    <tr>\n",
       "      <th>...</th>\n",
       "      <td>...</td>\n",
       "      <td>...</td>\n",
       "      <td>...</td>\n",
       "      <td>...</td>\n",
       "      <td>...</td>\n",
       "    </tr>\n",
       "    <tr>\n",
       "      <th>951</th>\n",
       "      <td>996</td>\n",
       "      <td>vipin</td>\n",
       "      <td>bangalore</td>\n",
       "      <td>Not Converted</td>\n",
       "      <td>please send details tomorrow afternoon pm dis...</td>\n",
       "    </tr>\n",
       "    <tr>\n",
       "      <th>952</th>\n",
       "      <td>997</td>\n",
       "      <td>dheeraj</td>\n",
       "      <td>chennai</td>\n",
       "      <td>Not Converted</td>\n",
       "      <td>need ct venue far shared details ds want venu...</td>\n",
       "    </tr>\n",
       "    <tr>\n",
       "      <th>953</th>\n",
       "      <td>998</td>\n",
       "      <td>kuldeep singh</td>\n",
       "      <td>bangalore</td>\n",
       "      <td>Not Converted</td>\n",
       "      <td>intrstd evng batch trail perd alrdy reg exlr</td>\n",
       "    </tr>\n",
       "    <tr>\n",
       "      <th>954</th>\n",
       "      <td>999</td>\n",
       "      <td>ankur sharma</td>\n",
       "      <td>bangalore</td>\n",
       "      <td>Not Converted</td>\n",
       "      <td>please share details already done</td>\n",
       "    </tr>\n",
       "    <tr>\n",
       "      <th>955</th>\n",
       "      <td>1000</td>\n",
       "      <td>Saugata Chakrabarti</td>\n",
       "      <td>bangalore</td>\n",
       "      <td>Not Converted</td>\n",
       "      <td>shared details need cert need call pm meeting...</td>\n",
       "    </tr>\n",
       "  </tbody>\n",
       "</table>\n",
       "<p>956 rows × 5 columns</p>\n",
       "</div>"
      ],
      "text/plain": [
       "     Unnamed: 0             LeadName   Location         Status  \\\n",
       "0             0                 Raja  hyderabad  Not Converted   \n",
       "1             1        Anirudh Reddy       pune  Not Converted   \n",
       "2             2         Sapna Dewani  bangalore     Converted    \n",
       "3             3               suresh     mumbai  Not Converted   \n",
       "4             4        Akshay Shinde  hyderabad  Not Converted   \n",
       "..          ...                  ...        ...            ...   \n",
       "951         996                vipin  bangalore  Not Converted   \n",
       "952         997              dheeraj    chennai  Not Converted   \n",
       "953         998        kuldeep singh  bangalore  Not Converted   \n",
       "954         999         ankur sharma  bangalore  Not Converted   \n",
       "955        1000  Saugata Chakrabarti  bangalore  Not Converted   \n",
       "\n",
       "                                     Statusinformation  \n",
       "0     share details available evng postponed plans ...  \n",
       "1     cal tmrw shared details email share details e...  \n",
       "2                                                 rnr   \n",
       "3                     want server cal busy reg server   \n",
       "4     rnr gave info said revert hr planning next mo...  \n",
       "..                                                 ...  \n",
       "951   please send details tomorrow afternoon pm dis...  \n",
       "952   need ct venue far shared details ds want venu...  \n",
       "953      intrstd evng batch trail perd alrdy reg exlr   \n",
       "954                 please share details already done   \n",
       "955   shared details need cert need call pm meeting...  \n",
       "\n",
       "[956 rows x 5 columns]"
      ]
     },
     "execution_count": 97,
     "metadata": {},
     "output_type": "execute_result"
    }
   ],
   "source": [
    "#Applying the function\n",
    "df3['Statusinformation'] = df3['Statusinformation'].apply(remove_names)\n",
    "pd.DataFrame(df3['Statusinformation'])\n",
    "df3"
   ]
  },
  {
   "cell_type": "code",
   "execution_count": 98,
   "metadata": {},
   "outputs": [],
   "source": [
    "#Defining the function to retain the executive names \n",
    "def keep_names(mess):\n",
    "    list = ['surendra','prema','mohan','soma','amar','moHan','SOMA','PREMA','gowtham']\n",
    "    resultwords  = [word for word in re.split(\"\\W+\",mess) if word.lower() in list]\n",
    "    return ' '.join(resultwords)"
   ]
  },
  {
   "cell_type": "code",
   "execution_count": 99,
   "metadata": {},
   "outputs": [
    {
     "data": {
      "text/plain": [
       "0                                      prema prema prema\n",
       "1                                      prema prema prema\n",
       "2                                                  mohan\n",
       "3                                   surendra mohan mohan\n",
       "4                                      prema prema prema\n",
       "                             ...                        \n",
       "951                            surendra surendra gowtham\n",
       "952                                          prema prema\n",
       "953                                          mohan mohan\n",
       "954                                     surendra gowtham\n",
       "955    prema prema prema prema gowtham gowtham gowtha...\n",
       "Name: Statusinformation, Length: 956, dtype: object"
      ]
     },
     "execution_count": 99,
     "metadata": {},
     "output_type": "execute_result"
    }
   ],
   "source": [
    "#Applying the same \n",
    "df2['Statusinformation'] = df2['Statusinformation'].apply(keep_names)\n",
    "df2['Statusinformation']"
   ]
  },
  {
   "cell_type": "code",
   "execution_count": 100,
   "metadata": {},
   "outputs": [],
   "source": [
    "#Deleting the repeated names and keeping only unique names .\n",
    "df2['Statusinformation'] = df2['Statusinformation'].str.replace(r'\\b(\\w+)(\\s+\\1)+\\b', r'\\1')\n",
    "df2['Executive']= df2['Statusinformation']"
   ]
  },
  {
   "cell_type": "code",
   "execution_count": 101,
   "metadata": {
    "scrolled": true
   },
   "outputs": [
    {
     "data": {
      "text/html": [
       "<div>\n",
       "<style scoped>\n",
       "    .dataframe tbody tr th:only-of-type {\n",
       "        vertical-align: middle;\n",
       "    }\n",
       "\n",
       "    .dataframe tbody tr th {\n",
       "        vertical-align: top;\n",
       "    }\n",
       "\n",
       "    .dataframe thead th {\n",
       "        text-align: right;\n",
       "    }\n",
       "</style>\n",
       "<table border=\"1\" class=\"dataframe\">\n",
       "  <thead>\n",
       "    <tr style=\"text-align: right;\">\n",
       "      <th></th>\n",
       "      <th>Executive</th>\n",
       "    </tr>\n",
       "  </thead>\n",
       "  <tbody>\n",
       "    <tr>\n",
       "      <th>0</th>\n",
       "      <td>prema</td>\n",
       "    </tr>\n",
       "    <tr>\n",
       "      <th>1</th>\n",
       "      <td>prema</td>\n",
       "    </tr>\n",
       "    <tr>\n",
       "      <th>2</th>\n",
       "      <td>mohan</td>\n",
       "    </tr>\n",
       "    <tr>\n",
       "      <th>3</th>\n",
       "      <td>surendra mohan</td>\n",
       "    </tr>\n",
       "    <tr>\n",
       "      <th>4</th>\n",
       "      <td>prema</td>\n",
       "    </tr>\n",
       "    <tr>\n",
       "      <th>...</th>\n",
       "      <td>...</td>\n",
       "    </tr>\n",
       "    <tr>\n",
       "      <th>951</th>\n",
       "      <td>surendra gowtham</td>\n",
       "    </tr>\n",
       "    <tr>\n",
       "      <th>952</th>\n",
       "      <td>prema</td>\n",
       "    </tr>\n",
       "    <tr>\n",
       "      <th>953</th>\n",
       "      <td>mohan</td>\n",
       "    </tr>\n",
       "    <tr>\n",
       "      <th>954</th>\n",
       "      <td>surendra gowtham</td>\n",
       "    </tr>\n",
       "    <tr>\n",
       "      <th>955</th>\n",
       "      <td>prema gowtham prema</td>\n",
       "    </tr>\n",
       "  </tbody>\n",
       "</table>\n",
       "<p>956 rows × 1 columns</p>\n",
       "</div>"
      ],
      "text/plain": [
       "               Executive\n",
       "0                  prema\n",
       "1                  prema\n",
       "2                  mohan\n",
       "3         surendra mohan\n",
       "4                  prema\n",
       "..                   ...\n",
       "951     surendra gowtham\n",
       "952                prema\n",
       "953                mohan\n",
       "954     surendra gowtham\n",
       "955  prema gowtham prema\n",
       "\n",
       "[956 rows x 1 columns]"
      ]
     },
     "execution_count": 101,
     "metadata": {},
     "output_type": "execute_result"
    }
   ],
   "source": [
    "#Creating a dataframe of names\n",
    "b = pd.DataFrame(df2['Executive'])\n",
    "b"
   ]
  },
  {
   "cell_type": "code",
   "execution_count": 102,
   "metadata": {},
   "outputs": [
    {
     "data": {
      "text/html": [
       "<div>\n",
       "<style scoped>\n",
       "    .dataframe tbody tr th:only-of-type {\n",
       "        vertical-align: middle;\n",
       "    }\n",
       "\n",
       "    .dataframe tbody tr th {\n",
       "        vertical-align: top;\n",
       "    }\n",
       "\n",
       "    .dataframe thead th {\n",
       "        text-align: right;\n",
       "    }\n",
       "</style>\n",
       "<table border=\"1\" class=\"dataframe\">\n",
       "  <thead>\n",
       "    <tr style=\"text-align: right;\">\n",
       "      <th></th>\n",
       "      <th>LeadName</th>\n",
       "      <th>Location</th>\n",
       "      <th>Executive</th>\n",
       "      <th>Statusinformation</th>\n",
       "      <th>Status</th>\n",
       "    </tr>\n",
       "  </thead>\n",
       "  <tbody>\n",
       "    <tr>\n",
       "      <th>0</th>\n",
       "      <td>Raja</td>\n",
       "      <td>hyderabad</td>\n",
       "      <td>prema</td>\n",
       "      <td>share details available evng postponed plans ...</td>\n",
       "      <td>Not Converted</td>\n",
       "    </tr>\n",
       "    <tr>\n",
       "      <th>1</th>\n",
       "      <td>Anirudh Reddy</td>\n",
       "      <td>pune</td>\n",
       "      <td>prema</td>\n",
       "      <td>cal tmrw shared details email share details e...</td>\n",
       "      <td>Not Converted</td>\n",
       "    </tr>\n",
       "    <tr>\n",
       "      <th>2</th>\n",
       "      <td>Sapna Dewani</td>\n",
       "      <td>bangalore</td>\n",
       "      <td>mohan</td>\n",
       "      <td>rnr</td>\n",
       "      <td>Converted</td>\n",
       "    </tr>\n",
       "    <tr>\n",
       "      <th>3</th>\n",
       "      <td>suresh</td>\n",
       "      <td>mumbai</td>\n",
       "      <td>surendra mohan</td>\n",
       "      <td>want server cal busy reg server</td>\n",
       "      <td>Not Converted</td>\n",
       "    </tr>\n",
       "    <tr>\n",
       "      <th>4</th>\n",
       "      <td>Akshay Shinde</td>\n",
       "      <td>hyderabad</td>\n",
       "      <td>prema</td>\n",
       "      <td>rnr gave info said revert hr planning next mo...</td>\n",
       "      <td>Not Converted</td>\n",
       "    </tr>\n",
       "    <tr>\n",
       "      <th>...</th>\n",
       "      <td>...</td>\n",
       "      <td>...</td>\n",
       "      <td>...</td>\n",
       "      <td>...</td>\n",
       "      <td>...</td>\n",
       "    </tr>\n",
       "    <tr>\n",
       "      <th>951</th>\n",
       "      <td>vipin</td>\n",
       "      <td>bangalore</td>\n",
       "      <td>surendra gowtham</td>\n",
       "      <td>please send details tomorrow afternoon pm dis...</td>\n",
       "      <td>Not Converted</td>\n",
       "    </tr>\n",
       "    <tr>\n",
       "      <th>952</th>\n",
       "      <td>dheeraj</td>\n",
       "      <td>chennai</td>\n",
       "      <td>prema</td>\n",
       "      <td>need ct venue far shared details ds want venu...</td>\n",
       "      <td>Not Converted</td>\n",
       "    </tr>\n",
       "    <tr>\n",
       "      <th>953</th>\n",
       "      <td>kuldeep singh</td>\n",
       "      <td>bangalore</td>\n",
       "      <td>mohan</td>\n",
       "      <td>intrstd evng batch trail perd alrdy reg exlr</td>\n",
       "      <td>Not Converted</td>\n",
       "    </tr>\n",
       "    <tr>\n",
       "      <th>954</th>\n",
       "      <td>ankur sharma</td>\n",
       "      <td>bangalore</td>\n",
       "      <td>surendra gowtham</td>\n",
       "      <td>please share details already done</td>\n",
       "      <td>Not Converted</td>\n",
       "    </tr>\n",
       "    <tr>\n",
       "      <th>955</th>\n",
       "      <td>Saugata Chakrabarti</td>\n",
       "      <td>bangalore</td>\n",
       "      <td>prema gowtham prema</td>\n",
       "      <td>shared details need cert need call pm meeting...</td>\n",
       "      <td>Not Converted</td>\n",
       "    </tr>\n",
       "  </tbody>\n",
       "</table>\n",
       "<p>956 rows × 5 columns</p>\n",
       "</div>"
      ],
      "text/plain": [
       "                LeadName   Location            Executive  \\\n",
       "0                   Raja  hyderabad                prema   \n",
       "1          Anirudh Reddy       pune                prema   \n",
       "2           Sapna Dewani  bangalore                mohan   \n",
       "3                 suresh     mumbai       surendra mohan   \n",
       "4          Akshay Shinde  hyderabad                prema   \n",
       "..                   ...        ...                  ...   \n",
       "951                vipin  bangalore     surendra gowtham   \n",
       "952              dheeraj    chennai                prema   \n",
       "953        kuldeep singh  bangalore                mohan   \n",
       "954         ankur sharma  bangalore     surendra gowtham   \n",
       "955  Saugata Chakrabarti  bangalore  prema gowtham prema   \n",
       "\n",
       "                                     Statusinformation         Status  \n",
       "0     share details available evng postponed plans ...  Not Converted  \n",
       "1     cal tmrw shared details email share details e...  Not Converted  \n",
       "2                                                 rnr      Converted   \n",
       "3                     want server cal busy reg server   Not Converted  \n",
       "4     rnr gave info said revert hr planning next mo...  Not Converted  \n",
       "..                                                 ...            ...  \n",
       "951   please send details tomorrow afternoon pm dis...  Not Converted  \n",
       "952   need ct venue far shared details ds want venu...  Not Converted  \n",
       "953      intrstd evng batch trail perd alrdy reg exlr   Not Converted  \n",
       "954                 please share details already done   Not Converted  \n",
       "955   shared details need cert need call pm meeting...  Not Converted  \n",
       "\n",
       "[956 rows x 5 columns]"
      ]
     },
     "execution_count": 102,
     "metadata": {},
     "output_type": "execute_result"
    }
   ],
   "source": [
    "#Finally concatinating the column of names along with the original dataframe\n",
    "df_final = pd.concat([df3,b],axis=1)\n",
    "#Creating a fresh dataframe with alligned features \n",
    "df_new = df_final[['LeadName','Location','Executive','Statusinformation','Status']]\n",
    "df_new"
   ]
  },
  {
   "cell_type": "code",
   "execution_count": 103,
   "metadata": {
    "scrolled": false
   },
   "outputs": [
    {
     "data": {
      "text/html": [
       "<div>\n",
       "<style scoped>\n",
       "    .dataframe tbody tr th:only-of-type {\n",
       "        vertical-align: middle;\n",
       "    }\n",
       "\n",
       "    .dataframe tbody tr th {\n",
       "        vertical-align: top;\n",
       "    }\n",
       "\n",
       "    .dataframe thead th {\n",
       "        text-align: right;\n",
       "    }\n",
       "</style>\n",
       "<table border=\"1\" class=\"dataframe\">\n",
       "  <thead>\n",
       "    <tr style=\"text-align: right;\">\n",
       "      <th></th>\n",
       "      <th>Lead Name</th>\n",
       "      <th>Location</th>\n",
       "      <th>Executive</th>\n",
       "      <th>Status information</th>\n",
       "      <th>Status</th>\n",
       "    </tr>\n",
       "  </thead>\n",
       "  <tbody>\n",
       "    <tr>\n",
       "      <th>0</th>\n",
       "      <td>Raja</td>\n",
       "      <td>hyderabad</td>\n",
       "      <td>prema</td>\n",
       "      <td>share details available evng postponed plans ...</td>\n",
       "      <td>Not Converted</td>\n",
       "    </tr>\n",
       "    <tr>\n",
       "      <th>1</th>\n",
       "      <td>Anirudh Reddy</td>\n",
       "      <td>pune</td>\n",
       "      <td>prema</td>\n",
       "      <td>cal tmrw shared details email share details e...</td>\n",
       "      <td>Not Converted</td>\n",
       "    </tr>\n",
       "    <tr>\n",
       "      <th>2</th>\n",
       "      <td>Sapna Dewani</td>\n",
       "      <td>bangalore</td>\n",
       "      <td>mohan</td>\n",
       "      <td>rnr</td>\n",
       "      <td>Converted</td>\n",
       "    </tr>\n",
       "    <tr>\n",
       "      <th>3</th>\n",
       "      <td>suresh</td>\n",
       "      <td>mumbai</td>\n",
       "      <td>surendra mohan</td>\n",
       "      <td>want server cal busy reg server</td>\n",
       "      <td>Not Converted</td>\n",
       "    </tr>\n",
       "    <tr>\n",
       "      <th>4</th>\n",
       "      <td>Akshay Shinde</td>\n",
       "      <td>hyderabad</td>\n",
       "      <td>prema</td>\n",
       "      <td>rnr gave info said revert hr planning next mo...</td>\n",
       "      <td>Not Converted</td>\n",
       "    </tr>\n",
       "    <tr>\n",
       "      <th>...</th>\n",
       "      <td>...</td>\n",
       "      <td>...</td>\n",
       "      <td>...</td>\n",
       "      <td>...</td>\n",
       "      <td>...</td>\n",
       "    </tr>\n",
       "    <tr>\n",
       "      <th>951</th>\n",
       "      <td>vipin</td>\n",
       "      <td>bangalore</td>\n",
       "      <td>surendra gowtham</td>\n",
       "      <td>please send details tomorrow afternoon pm dis...</td>\n",
       "      <td>Not Converted</td>\n",
       "    </tr>\n",
       "    <tr>\n",
       "      <th>952</th>\n",
       "      <td>dheeraj</td>\n",
       "      <td>chennai</td>\n",
       "      <td>prema</td>\n",
       "      <td>need ct venue far shared details ds want venu...</td>\n",
       "      <td>Not Converted</td>\n",
       "    </tr>\n",
       "    <tr>\n",
       "      <th>953</th>\n",
       "      <td>kuldeep singh</td>\n",
       "      <td>bangalore</td>\n",
       "      <td>mohan</td>\n",
       "      <td>intrstd evng batch trail perd alrdy reg exlr</td>\n",
       "      <td>Not Converted</td>\n",
       "    </tr>\n",
       "    <tr>\n",
       "      <th>954</th>\n",
       "      <td>ankur sharma</td>\n",
       "      <td>bangalore</td>\n",
       "      <td>surendra gowtham</td>\n",
       "      <td>please share details already done</td>\n",
       "      <td>Not Converted</td>\n",
       "    </tr>\n",
       "    <tr>\n",
       "      <th>955</th>\n",
       "      <td>Saugata Chakrabarti</td>\n",
       "      <td>bangalore</td>\n",
       "      <td>prema gowtham prema</td>\n",
       "      <td>shared details need cert need call pm meeting...</td>\n",
       "      <td>Not Converted</td>\n",
       "    </tr>\n",
       "  </tbody>\n",
       "</table>\n",
       "<p>956 rows × 5 columns</p>\n",
       "</div>"
      ],
      "text/plain": [
       "               Lead Name   Location            Executive  \\\n",
       "0                   Raja  hyderabad                prema   \n",
       "1          Anirudh Reddy       pune                prema   \n",
       "2           Sapna Dewani  bangalore                mohan   \n",
       "3                 suresh     mumbai       surendra mohan   \n",
       "4          Akshay Shinde  hyderabad                prema   \n",
       "..                   ...        ...                  ...   \n",
       "951                vipin  bangalore     surendra gowtham   \n",
       "952              dheeraj    chennai                prema   \n",
       "953        kuldeep singh  bangalore                mohan   \n",
       "954         ankur sharma  bangalore     surendra gowtham   \n",
       "955  Saugata Chakrabarti  bangalore  prema gowtham prema   \n",
       "\n",
       "                                    Status information         Status  \n",
       "0     share details available evng postponed plans ...  Not Converted  \n",
       "1     cal tmrw shared details email share details e...  Not Converted  \n",
       "2                                                 rnr      Converted   \n",
       "3                     want server cal busy reg server   Not Converted  \n",
       "4     rnr gave info said revert hr planning next mo...  Not Converted  \n",
       "..                                                 ...            ...  \n",
       "951   please send details tomorrow afternoon pm dis...  Not Converted  \n",
       "952   need ct venue far shared details ds want venu...  Not Converted  \n",
       "953      intrstd evng batch trail perd alrdy reg exlr   Not Converted  \n",
       "954                 please share details already done   Not Converted  \n",
       "955   shared details need cert need call pm meeting...  Not Converted  \n",
       "\n",
       "[956 rows x 5 columns]"
      ]
     },
     "execution_count": 103,
     "metadata": {},
     "output_type": "execute_result"
    }
   ],
   "source": [
    "#Renaming the columns \n",
    "df_new= df_new.rename(columns={'LeadName': 'Lead Name','Statusinformation':'Status information'})\n",
    "df_new"
   ]
  },
  {
   "cell_type": "code",
   "execution_count": 104,
   "metadata": {},
   "outputs": [
    {
     "data": {
      "text/plain": [
       "array(['Not Converted', 'Converted ', 'NOt Converted', 'Conveted'],\n",
       "      dtype=object)"
      ]
     },
     "execution_count": 104,
     "metadata": {},
     "output_type": "execute_result"
    }
   ],
   "source": [
    "#Checking for any spelling mistakes in the categorical data \n",
    "df_new['Status'].unique()"
   ]
  },
  {
   "cell_type": "code",
   "execution_count": 105,
   "metadata": {
    "scrolled": true
   },
   "outputs": [
    {
     "data": {
      "text/plain": [
       "Not Converted    818\n",
       "Converted        120\n",
       "NOt Converted     11\n",
       "Conveted           7\n",
       "Name: Status, dtype: int64"
      ]
     },
     "execution_count": 105,
     "metadata": {},
     "output_type": "execute_result"
    }
   ],
   "source": [
    "#Looking for the counts \n",
    "df_new['Status'].value_counts()"
   ]
  },
  {
   "cell_type": "code",
   "execution_count": 106,
   "metadata": {},
   "outputs": [],
   "source": [
    "#Replacing the Misspelled words with correct words\n",
    "df_new.replace(\"NOt Converted\", \n",
    "           \"Not Converted\", \n",
    "           inplace=True)\n",
    "df_new.replace(\"Conveted\", \n",
    "           \"Converted\", \n",
    "           inplace=True)\n",
    "df_new.replace(\"Converted \", \n",
    "           \"Converted\", \n",
    "           inplace=True)"
   ]
  },
  {
   "cell_type": "code",
   "execution_count": 107,
   "metadata": {},
   "outputs": [
    {
     "data": {
      "text/plain": [
       "Not Converted    829\n",
       "Converted        127\n",
       "Name: Status, dtype: int64"
      ]
     },
     "execution_count": 107,
     "metadata": {},
     "output_type": "execute_result"
    }
   ],
   "source": [
    "#Checking for confirmation\n",
    "df_new['Status'].value_counts()"
   ]
  },
  {
   "cell_type": "code",
   "execution_count": 108,
   "metadata": {},
   "outputs": [
    {
     "data": {
      "text/plain": [
       "Lead Name             0\n",
       "Location              0\n",
       "Executive             0\n",
       "Status information    0\n",
       "Status                0\n",
       "dtype: int64"
      ]
     },
     "execution_count": 108,
     "metadata": {},
     "output_type": "execute_result"
    }
   ],
   "source": [
    "#Checking for any null values \n",
    "df_new.isnull().sum()"
   ]
  },
  {
   "cell_type": "code",
   "execution_count": 110,
   "metadata": {
    "colab": {},
    "colab_type": "code",
    "id": "KLIPQ6wWzw74"
   },
   "outputs": [],
   "source": [
    "#Importing CountVectorizer from sklearn library\n",
    "from sklearn.feature_extraction.text import CountVectorizer"
   ]
  },
  {
   "cell_type": "code",
   "execution_count": 111,
   "metadata": {},
   "outputs": [
    {
     "data": {
      "text/plain": [
       "0      [share, details, available, evng, postponed, p...\n",
       "1      [cal, tmrw, shared, details, email, share, det...\n",
       "2                                                  [rnr]\n",
       "3                 [want, server, cal, busy, reg, server]\n",
       "4      [rnr, gave, info, said, revert, hr, planning, ...\n",
       "                             ...                        \n",
       "951    [please, send, details, tomorrow, afternoon, p...\n",
       "952    [need, ct, venue, far, shared, details, ds, wa...\n",
       "953    [intrstd, evng, batch, trail, perd, alrdy, reg...\n",
       "954              [please, share, details, already, done]\n",
       "955    [shared, details, need, cert, need, call, pm, ...\n",
       "Name: Status information, Length: 956, dtype: object"
      ]
     },
     "execution_count": 111,
     "metadata": {},
     "output_type": "execute_result"
    }
   ],
   "source": [
    "#Appling previously defined function to the input column\n",
    "df_new['Status information'].apply(text_process)"
   ]
  },
  {
   "cell_type": "code",
   "execution_count": 112,
   "metadata": {
    "colab": {},
    "colab_type": "code",
    "id": "NPdmutYvzw76"
   },
   "outputs": [],
   "source": [
    "#Fitting bag of words\n",
    "bag_words = CountVectorizer(analyzer = text_process).fit(df_new['Status information'])"
   ]
  },
  {
   "cell_type": "code",
   "execution_count": 113,
   "metadata": {
    "colab": {
     "base_uri": "https://localhost:8080/",
     "height": 136
    },
    "colab_type": "code",
    "id": "qvBXNTiSzw79",
    "outputId": "482578b2-fec1-4f6c-88c7-172ef35d3b15"
   },
   "outputs": [
    {
     "name": "stdout",
     "output_type": "stream",
     "text": [
      "CountVectorizer(analyzer=<function text_process at 0x000001758CC23DC8>,\n",
      "                binary=False, decode_error='strict',\n",
      "                dtype=<class 'numpy.int64'>, encoding='utf-8', input='content',\n",
      "                lowercase=True, max_df=1.0, max_features=None, min_df=1,\n",
      "                ngram_range=(1, 1), preprocessor=None, stop_words=None,\n",
      "                strip_accents=None, token_pattern='(?u)\\\\b\\\\w\\\\w+\\\\b',\n",
      "                tokenizer=None, vocabulary=None)\n"
     ]
    }
   ],
   "source": [
    "print(bag_words)"
   ]
  },
  {
   "cell_type": "code",
   "execution_count": 114,
   "metadata": {
    "colab": {},
    "colab_type": "code",
    "id": "BCfqTlc1zw7_"
   },
   "outputs": [],
   "source": [
    "#Transforming Bag of words as message_bagwords\n",
    "message_bagwords = bag_words.transform(df_new['Status information'])"
   ]
  },
  {
   "cell_type": "code",
   "execution_count": 115,
   "metadata": {
    "colab": {
     "base_uri": "https://localhost:8080/",
     "height": 884
    },
    "colab_type": "code",
    "id": "LFSfDipazw8B",
    "outputId": "0038df1c-e65b-4dbe-9861-ce639346e3d5"
   },
   "outputs": [
    {
     "name": "stdout",
     "output_type": "stream",
     "text": [
      "  (0, 89)\t1\n",
      "  (0, 246)\t1\n",
      "  (0, 278)\t1\n",
      "  (0, 367)\t1\n",
      "  (0, 491)\t1\n",
      "  (0, 731)\t1\n",
      "  (0, 752)\t1\n",
      "  (0, 895)\t1\n",
      "  (0, 1014)\t1\n",
      "  (1, 58)\t1\n",
      "  (1, 140)\t1\n",
      "  (1, 157)\t1\n",
      "  (1, 164)\t1\n",
      "  (1, 278)\t2\n",
      "  (1, 338)\t3\n",
      "  (1, 469)\t1\n",
      "  (1, 565)\t1\n",
      "  (1, 638)\t1\n",
      "  (1, 807)\t1\n",
      "  (1, 842)\t1\n",
      "  (1, 895)\t1\n",
      "  (1, 896)\t1\n",
      "  (1, 994)\t1\n",
      "  (2, 845)\t1\n",
      "  (3, 136)\t1\n",
      "  :\t:\n",
      "  (953, 814)\t1\n",
      "  (953, 1010)\t1\n",
      "  (954, 30)\t1\n",
      "  (954, 278)\t1\n",
      "  (954, 314)\t1\n",
      "  (954, 734)\t1\n",
      "  (954, 895)\t1\n",
      "  (955, 95)\t2\n",
      "  (955, 140)\t2\n",
      "  (955, 142)\t1\n",
      "  (955, 155)\t1\n",
      "  (955, 278)\t2\n",
      "  (955, 422)\t1\n",
      "  (955, 469)\t1\n",
      "  (955, 493)\t1\n",
      "  (955, 511)\t1\n",
      "  (955, 544)\t2\n",
      "  (955, 593)\t2\n",
      "  (955, 643)\t1\n",
      "  (955, 645)\t2\n",
      "  (955, 739)\t1\n",
      "  (955, 845)\t8\n",
      "  (955, 896)\t2\n",
      "  (955, 986)\t1\n",
      "  (955, 1033)\t2\n"
     ]
    }
   ],
   "source": [
    "print(message_bagwords)"
   ]
  },
  {
   "cell_type": "code",
   "execution_count": 116,
   "metadata": {
    "colab": {},
    "colab_type": "code",
    "id": "2LA8ssIrzw8D"
   },
   "outputs": [],
   "source": [
    "#Importing TFIDF transformer \n",
    "from sklearn.feature_extraction.text import TfidfTransformer\n",
    "tfidf_transformer = TfidfTransformer().fit(message_bagwords)"
   ]
  },
  {
   "cell_type": "code",
   "execution_count": 117,
   "metadata": {},
   "outputs": [],
   "source": [
    "#Transforming the bagwords\n",
    "message_tfidf = tfidf_transformer.transform(message_bagwords)"
   ]
  },
  {
   "cell_type": "code",
   "execution_count": 118,
   "metadata": {
    "colab": {
     "base_uri": "https://localhost:8080/",
     "height": 901
    },
    "colab_type": "code",
    "id": "A_h8S8zRzw8J",
    "outputId": "19b7d1c6-c23a-472b-d175-a8d674191e80"
   },
   "outputs": [
    {
     "name": "stdout",
     "output_type": "stream",
     "text": [
      "(956, 1130)\n",
      "  (0, 1014)\t0.326463487403801\n",
      "  (0, 895)\t0.20144417934086342\n",
      "  (0, 752)\t0.4048499179309091\n",
      "  (0, 731)\t0.4875384535668432\n",
      "  (0, 491)\t0.24678600723388822\n",
      "  (0, 367)\t0.31237275819105825\n",
      "  (0, 278)\t0.14111250986765458\n",
      "  (0, 246)\t0.393247559106348\n",
      "  (0, 89)\t0.34381416148297006\n",
      "  (1, 994)\t0.1730336842317511\n",
      "  (1, 896)\t0.10657243261680897\n",
      "  (1, 895)\t0.12960140468472262\n",
      "  (1, 842)\t0.18417187606954044\n",
      "  (1, 807)\t0.3275939728519422\n",
      "  (1, 638)\t0.18945968381124711\n",
      "  (1, 565)\t0.1998016810958648\n",
      "  (1, 469)\t0.2129696529763642\n",
      "  (1, 338)\t0.617818312411209\n",
      "  (1, 278)\t0.18157267742632638\n",
      "  (1, 164)\t0.14150115001220187\n",
      "  (1, 157)\t0.31366341100957756\n",
      "  (1, 140)\t0.16079052175237787\n",
      "  (1, 58)\t0.3472279970206487\n",
      "  (2, 845)\t1.0\n",
      "  (3, 1061)\t0.22538531981996815\n",
      "  :\t:\n",
      "  (953, 109)\t0.28679901443389705\n",
      "  (953, 29)\t0.325694838503429\n",
      "  (954, 895)\t0.3313845596706931\n",
      "  (954, 734)\t0.5023408374140262\n",
      "  (954, 314)\t0.5655894594938573\n",
      "  (954, 278)\t0.2321363024711291\n",
      "  (954, 30)\t0.5138669643619003\n",
      "  (955, 1033)\t0.24302062159657872\n",
      "  (955, 986)\t0.1968347297832901\n",
      "  (955, 896)\t0.1610747856113192\n",
      "  (955, 845)\t0.4565027423422715\n",
      "  (955, 739)\t0.12269724355512499\n",
      "  (955, 645)\t0.2187294146460813\n",
      "  (955, 643)\t0.20736213451220403\n",
      "  (955, 593)\t0.3527124277843951\n",
      "  (955, 544)\t0.2877726853011468\n",
      "  (955, 511)\t0.23703722173699399\n",
      "  (955, 493)\t0.23703722173699399\n",
      "  (955, 469)\t0.16094237671306733\n",
      "  (955, 422)\t0.13557742837175846\n",
      "  (955, 278)\t0.13721550391215256\n",
      "  (955, 155)\t0.2475646264659079\n",
      "  (955, 142)\t0.08249475160142113\n",
      "  (955, 140)\t0.24302062159657872\n",
      "  (955, 95)\t0.2282632338129275\n"
     ]
    }
   ],
   "source": [
    "#Checking for its shape and print .\n",
    "print(message_tfidf.shape)\n",
    "print(message_tfidf)"
   ]
  },
  {
   "cell_type": "code",
   "execution_count": 119,
   "metadata": {
    "colab": {},
    "colab_type": "code",
    "id": "63oiS_7izw8f"
   },
   "outputs": [],
   "source": [
    "#Splitting the data into train and test\n",
    "from sklearn.model_selection import train_test_split\n",
    "X_train, X_test, y_train, y_test = train_test_split(message_tfidf,df_new['Status'] , test_size = 0.2)"
   ]
  },
  {
   "cell_type": "code",
   "execution_count": 120,
   "metadata": {
    "colab": {},
    "colab_type": "code",
    "id": "2XoGcADEzw8h"
   },
   "outputs": [],
   "source": [
    "# Import the algorith and train it\n",
    "from sklearn.naive_bayes import BernoulliNB\n",
    "detect = BernoulliNB().fit(X_train , y_train ) "
   ]
  },
  {
   "cell_type": "code",
   "execution_count": 121,
   "metadata": {
    "colab": {
     "base_uri": "https://localhost:8080/",
     "height": 850
    },
    "colab_type": "code",
    "id": "WLyX59R4zw8j",
    "outputId": "7fa18977-1ad3-492c-d4c1-6578041297d3"
   },
   "outputs": [
    {
     "data": {
      "text/plain": [
       "array(['Not Converted', 'Not Converted', 'Not Converted', 'Not Converted',\n",
       "       'Not Converted', 'Not Converted', 'Not Converted', 'Not Converted',\n",
       "       'Not Converted', 'Not Converted', 'Not Converted', 'Not Converted',\n",
       "       'Not Converted', 'Not Converted', 'Not Converted', 'Not Converted',\n",
       "       'Not Converted', 'Not Converted', 'Not Converted', 'Not Converted',\n",
       "       'Not Converted', 'Not Converted', 'Not Converted', 'Not Converted',\n",
       "       'Not Converted', 'Not Converted', 'Not Converted', 'Not Converted',\n",
       "       'Not Converted', 'Not Converted', 'Not Converted', 'Not Converted',\n",
       "       'Not Converted', 'Not Converted', 'Not Converted', 'Not Converted',\n",
       "       'Not Converted', 'Not Converted', 'Not Converted', 'Not Converted',\n",
       "       'Not Converted', 'Not Converted', 'Not Converted', 'Not Converted',\n",
       "       'Not Converted', 'Not Converted', 'Not Converted', 'Not Converted',\n",
       "       'Not Converted', 'Not Converted', 'Not Converted', 'Not Converted',\n",
       "       'Not Converted', 'Not Converted', 'Not Converted', 'Not Converted',\n",
       "       'Not Converted', 'Converted', 'Not Converted', 'Not Converted',\n",
       "       'Not Converted', 'Not Converted', 'Not Converted', 'Not Converted',\n",
       "       'Not Converted', 'Not Converted', 'Not Converted', 'Not Converted',\n",
       "       'Not Converted', 'Not Converted', 'Converted', 'Not Converted',\n",
       "       'Not Converted', 'Not Converted', 'Not Converted', 'Not Converted',\n",
       "       'Not Converted', 'Not Converted', 'Not Converted', 'Not Converted',\n",
       "       'Not Converted', 'Converted', 'Not Converted', 'Not Converted',\n",
       "       'Not Converted', 'Not Converted', 'Not Converted', 'Not Converted',\n",
       "       'Not Converted', 'Not Converted', 'Not Converted', 'Not Converted',\n",
       "       'Not Converted', 'Not Converted', 'Not Converted', 'Not Converted',\n",
       "       'Not Converted', 'Not Converted', 'Not Converted', 'Not Converted',\n",
       "       'Not Converted', 'Not Converted', 'Not Converted', 'Not Converted',\n",
       "       'Not Converted', 'Not Converted', 'Not Converted', 'Not Converted',\n",
       "       'Not Converted', 'Not Converted', 'Not Converted', 'Not Converted',\n",
       "       'Not Converted', 'Not Converted', 'Converted', 'Not Converted',\n",
       "       'Not Converted', 'Not Converted', 'Not Converted', 'Not Converted',\n",
       "       'Not Converted', 'Not Converted', 'Not Converted', 'Not Converted',\n",
       "       'Not Converted', 'Converted', 'Not Converted', 'Not Converted',\n",
       "       'Not Converted', 'Not Converted', 'Not Converted', 'Not Converted',\n",
       "       'Not Converted', 'Not Converted', 'Not Converted', 'Not Converted',\n",
       "       'Not Converted', 'Converted', 'Not Converted', 'Not Converted',\n",
       "       'Not Converted', 'Not Converted', 'Not Converted', 'Not Converted',\n",
       "       'Not Converted', 'Not Converted', 'Not Converted', 'Not Converted',\n",
       "       'Not Converted', 'Not Converted', 'Not Converted', 'Not Converted',\n",
       "       'Not Converted', 'Not Converted', 'Not Converted', 'Not Converted',\n",
       "       'Not Converted', 'Not Converted', 'Not Converted', 'Not Converted',\n",
       "       'Not Converted', 'Not Converted', 'Not Converted', 'Not Converted',\n",
       "       'Not Converted', 'Not Converted', 'Not Converted', 'Not Converted',\n",
       "       'Not Converted', 'Not Converted', 'Not Converted', 'Not Converted',\n",
       "       'Not Converted', 'Not Converted', 'Not Converted', 'Not Converted',\n",
       "       'Not Converted', 'Not Converted', 'Not Converted', 'Not Converted',\n",
       "       'Not Converted', 'Not Converted', 'Not Converted', 'Not Converted',\n",
       "       'Not Converted', 'Not Converted', 'Not Converted', 'Not Converted',\n",
       "       'Not Converted', 'Not Converted', 'Not Converted', 'Not Converted'],\n",
       "      dtype='<U13')"
      ]
     },
     "execution_count": 121,
     "metadata": {},
     "output_type": "execute_result"
    }
   ],
   "source": [
    "# Predicting the values of test data .\n",
    "predicted = detect.predict(X_test)\n",
    "predicted"
   ]
  },
  {
   "cell_type": "code",
   "execution_count": 122,
   "metadata": {
    "colab": {
     "base_uri": "https://localhost:8080/",
     "height": 204
    },
    "colab_type": "code",
    "id": "vUDA8GrBzw8l",
    "outputId": "88158373-c300-46f1-9674-2136a46ee510"
   },
   "outputs": [
    {
     "name": "stdout",
     "output_type": "stream",
     "text": [
      "               precision    recall  f1-score   support\n",
      "\n",
      "    Converted       0.17      0.04      0.07        24\n",
      "Not Converted       0.88      0.97      0.92       168\n",
      "\n",
      "     accuracy                           0.85       192\n",
      "    macro avg       0.52      0.51      0.49       192\n",
      " weighted avg       0.79      0.85      0.81       192\n",
      "\n",
      "[[  1  23]\n",
      " [  5 163]]\n"
     ]
    }
   ],
   "source": [
    "#Creating classification report and confusion matrix\n",
    "expected = y_test\n",
    "\n",
    "from sklearn import metrics\n",
    "print(metrics.classification_report(expected, predicted))\n",
    "print(metrics.confusion_matrix(expected, predicted))"
   ]
  },
  {
   "cell_type": "code",
   "execution_count": 123,
   "metadata": {
    "colab": {
     "base_uri": "https://localhost:8080/",
     "height": 34
    },
    "colab_type": "code",
    "id": "l7NhJQwOzw87",
    "outputId": "1418505d-99c8-48d3-8c5a-08d2a63f4a76"
   },
   "outputs": [
    {
     "data": {
      "text/plain": [
       "0.8541666666666666"
      ]
     },
     "execution_count": 123,
     "metadata": {},
     "output_type": "execute_result"
    }
   ],
   "source": [
    "#Checking the accuracy\n",
    "from sklearn.metrics import accuracy_score\n",
    "\n",
    "accuracy_first_model = accuracy_score(expected,predicted)\n",
    "accuracy_first_model"
   ]
  },
  {
   "cell_type": "code",
   "execution_count": 135,
   "metadata": {},
   "outputs": [],
   "source": [
    "#Model serialization and saving .(Task ONE)\n",
    "import pickle\n",
    "\n",
    "pickle.dump(detect, open(\"detect.pkl\", \"wb\" ))\n",
    "\n",
    "my_scaler = pickle.load(open(\"detect.pkl\", \"rb\" ))\n"
   ]
  },
  {
   "cell_type": "code",
   "execution_count": null,
   "metadata": {},
   "outputs": [],
   "source": []
  }
 ],
 "metadata": {
  "colab": {
   "name": "NLP project  (1).ipynb",
   "provenance": []
  },
  "kernelspec": {
   "display_name": "Python 3",
   "language": "python",
   "name": "python3"
  },
  "language_info": {
   "codemirror_mode": {
    "name": "ipython",
    "version": 3
   },
   "file_extension": ".py",
   "mimetype": "text/x-python",
   "name": "python",
   "nbconvert_exporter": "python",
   "pygments_lexer": "ipython3",
   "version": "3.6.6"
  }
 },
 "nbformat": 4,
 "nbformat_minor": 1
}
